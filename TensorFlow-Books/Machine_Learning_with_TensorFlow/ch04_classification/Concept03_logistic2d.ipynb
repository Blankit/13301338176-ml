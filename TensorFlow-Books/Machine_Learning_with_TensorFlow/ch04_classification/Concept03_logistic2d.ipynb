{
 "cells": [
  {
   "cell_type": "markdown",
   "metadata": {},
   "source": [
    "# Ch `04`: Concept `03`"
   ]
  },
  {
   "cell_type": "markdown",
   "metadata": {},
   "source": [
    "## Logistic regression in higher dimensions"
   ]
  },
  {
   "cell_type": "markdown",
   "metadata": {},
   "source": [
    "Set up the imports and hyper-parameters"
   ]
  },
  {
   "cell_type": "code",
   "execution_count": 8,
   "metadata": {},
   "outputs": [],
   "source": [
    "%matplotlib inline\n",
    "import numpy as np\n",
    "import tensorflow as tf\n",
    "import matplotlib.pyplot as plt\n",
    "\n",
    "\n",
    "\n",
    "\n",
    "learning_rate = 0.1\n",
    "training_epochs = 2000"
   ]
  },
  {
   "cell_type": "markdown",
   "metadata": {},
   "source": [
    "Define positive and negative to classify 2D data points:"
   ]
  },
  {
   "cell_type": "code",
   "execution_count": 10,
   "metadata": {},
   "outputs": [
    {
     "name": "stdout",
     "output_type": "stream",
     "text": [
      "--Return--\n",
      "> <ipython-input-10-021c418346e5>(3)<module>()->None\n",
      "-> pdb.set_trace()\n",
      "(Pdb) help\n",
      "\n",
      "Documented commands (type help <topic>):\n",
      "========================================\n",
      "EOF    bt         cont      enable  jump  pp       run      unt   \n",
      "a      c          continue  exit    l     q        s        until \n",
      "alias  cl         d         h       list  quit     step     up    \n",
      "args   clear      debug     help    n     r        tbreak   w     \n",
      "b      commands   disable   ignore  next  restart  u        whatis\n",
      "break  condition  down      j       p     return   unalias  where \n",
      "\n",
      "Miscellaneous help topics:\n",
      "==========================\n",
      "exec  pdb\n",
      "\n",
      "Undocumented commands:\n",
      "======================\n",
      "retval  rv\n",
      "\n",
      "(Pdb) n\n",
      "> /usr/local/lib/python2.7/dist-packages/IPython/core/interactiveshell.py(2885)run_code()\n",
      "-> sys.excepthook = old_excepthook\n",
      "(Pdb) n\n",
      "> /usr/local/lib/python2.7/dist-packages/IPython/core/interactiveshell.py(2901)run_code()\n",
      "-> outflag = 0\n",
      "(Pdb) n\n",
      "> /usr/local/lib/python2.7/dist-packages/IPython/core/interactiveshell.py(2902)run_code()\n",
      "-> return outflag\n",
      "(Pdb) n\n",
      "--Return--\n",
      "> /usr/local/lib/python2.7/dist-packages/IPython/core/interactiveshell.py(2902)run_code()->0\n",
      "-> return outflag\n",
      "(Pdb) n\n",
      "> /usr/local/lib/python2.7/dist-packages/IPython/core/interactiveshell.py(2819)run_ast_nodes()\n",
      "-> for i, node in enumerate(to_run_exec):\n",
      "(Pdb) c\n",
      "[ 4.15961383  2.80519006  3.00989256  2.79639508  4.54620672  2.2413037\n",
      "  1.30186624  2.38933796  4.29070319  3.63680598  2.6583692   2.63815248\n",
      "  2.7367002   1.50353626  3.16846477  2.27619129  2.88712054  5.26106638\n",
      "  2.1900559   2.24652793  2.71500948  4.79503003  3.19484992  2.39441924\n",
      "  4.5828149   1.22264757  4.33845736  4.91863217  3.19774223  2.22550797\n",
      "  0.86990446  3.3497759   1.21191615  2.21025283  3.08382099  3.7138146\n",
      "  1.776271    2.97885199  3.18299593  4.27795541  3.21714663  3.06865212\n",
      "  3.17861151  2.95184251  1.57813846  2.96376964  3.53679999  2.22552907\n",
      "  5.09632251  4.18326982  1.95541756  5.81859679  2.93035915  2.74727966\n",
      "  0.58646669  2.81756148  2.98245089  1.95945355  2.67940419  3.57381517\n",
      "  2.88706439  3.08527948  4.10482455  3.16899122  3.26787935  4.4441659\n",
      "  1.40856962  0.44967286  4.91752067  3.0845737   3.28275378  1.9096154\n",
      "  2.78665793  1.95845222  2.99799124  0.81126374  4.66904122  2.94299014\n",
      "  4.34380401  1.36103518  1.22080456  1.4961518   3.98043342  1.65680861\n",
      "  2.70960469  3.58544773  2.41854488  3.5267426   3.06572627  2.81667007\n",
      "  2.35957619  2.03222928  3.40041877  1.83995694  1.49795792  3.12186579\n",
      "  1.33404455  2.57165178  4.07578678  1.1301248   3.56028541  2.58945566\n",
      "  4.07456028  3.80433863  2.06154734  0.5230424   1.50010606  2.88860416\n",
      "  3.59027214  4.04388645  3.28948826  1.66052757  4.63705747  4.41784194\n",
      "  3.67406574  1.54870484  3.22462913  3.00955349  3.89188025  2.34597467\n",
      "  4.53134512  2.79790466  3.20773081  3.97204746  1.43872833  2.20698651\n",
      "  2.70125989  1.9813928   2.37380525  3.29041665  3.82298514  2.39705799\n",
      "  1.67859029  4.56967393  3.75362995  2.46921325  4.11904683  4.51961092\n",
      "  2.88455206  3.76921504  3.48385912  2.68018043  1.78844444  4.86228091\n",
      "  1.9903271   5.66104146  3.36106625  3.45170943  1.8599048   2.97818919\n",
      "  4.14544195  2.01970332  1.99239915  4.3134788   2.00441856  2.83779982\n",
      "  1.03940843  2.98128511  1.7346553   3.97731338  2.50704072  2.61600366\n",
      "  1.62732938  3.63984181  3.39133428  3.74352555  1.84846294  2.68634897\n",
      "  3.62054222  2.99038406  3.58330442  3.52795423  1.00832118  2.94589935\n",
      "  4.21806179  2.58142291  3.98757105  3.32509223  2.25474177  2.65270543\n",
      "  2.01284376  2.41504015  3.31872054  1.32280968  2.14389204  3.13466676\n",
      "  2.99223915  2.69972523  3.46513815  3.08953256  4.23578185  3.70475847\n",
      "  2.9919137   3.62783872  3.76646635  2.5739999   3.19829121  1.44677725\n",
      "  2.5568026   3.66918475  2.95747702  3.39645163  3.13549089  3.87977878\n",
      "  0.26100835  2.58662573  3.63215472  2.69975337  2.58266218  1.69412619\n",
      "  1.26961549  2.70832913  5.08788254  1.85293826  2.8785748   3.35199296\n",
      "  5.22022446  3.52303443  5.48403135  3.40443558  2.65412332  4.15593835\n",
      "  3.7128817   3.06949574  2.86256701  3.63136249  4.53680085  2.48041536\n",
      "  3.93247701  2.27833733  3.12177178  3.15592635  2.16771607  4.91384051\n",
      "  2.71459967  3.12584264  2.26789878  2.97285468  3.47972532  3.25741025\n",
      "  2.51039581  4.92452546  1.11666556  2.33091278  4.13246914  3.95934384\n",
      "  3.09043283  3.36865682  5.11795846  2.86891882  2.68442814  3.79584652\n",
      "  1.76983046  2.26622043  3.95646891  1.87590177  1.62349266  2.42854191\n",
      "  3.9656559   3.29821963  2.97558271  3.88661277  3.04219443  1.6771407\n",
      "  5.42801305  1.92635438  3.35688576  2.54666144  3.52374827  1.71348401\n",
      "  4.56198465  2.71620379  2.5823886   2.78968635  2.81702134  3.0064595\n",
      "  2.40987315  4.02629028  3.84180669  2.89192845  2.24140648  1.59766602\n",
      "  2.25665759  4.48904157  2.37261689  3.2127962   3.12881613  2.89285144\n",
      "  2.7894694   2.75405647  2.18504884  1.52793885  2.5325571   2.24958932\n",
      "  3.42211187  3.71314138  1.66277592  3.76439808  2.48916389  4.37847384\n",
      "  3.56263052  2.92488682  2.5609049   2.04611996  1.960586    3.73785687\n",
      "  1.63180394  0.97741865  2.56395667  1.84827803  2.77522134  4.62403377\n",
      "  2.72187148  2.1769254   2.61974947  3.19296267  2.36374572  3.053861\n",
      "  3.59243059  2.65057115  6.96932693  4.20107028  1.22024546  3.07553602\n",
      "  4.69039348  1.97618876  3.2288737   3.64658069  1.54218335  2.79028637\n",
      "  4.90416978  1.4476853   3.29260158  3.78927809  2.88903002  3.77719895\n",
      "  3.52032968  3.31287352  2.71913795  2.31688716  3.24567466  3.13166988\n",
      "  3.52712416  3.42879194  3.80838638  2.17401413  0.93709341  2.9364516\n",
      "  3.57264415  4.06736041  3.73885166  2.60294305  4.54701973  3.0121673\n",
      "  2.4213258   1.86776302  2.50619101  2.31335217  3.25378855  3.15459379\n",
      "  3.29298442  3.2192514   4.04954625  3.18126039  2.99639396  3.46692269\n",
      "  3.69307066  3.57709311  2.78931237  4.21372831  4.06198968  5.06212185\n",
      "  2.77776079  3.48748684  2.79980872  3.26485874  2.09559726  1.59509613\n",
      "  3.75013072  2.78553659  2.80102059  2.19463943  3.13064528  3.59382944\n",
      "  1.29277715  3.59631282  2.05477169  2.33425015  4.43138185  2.94958437\n",
      "  2.31510355  2.03663871  5.02461684  2.9674663   2.81048909  3.32123383\n",
      "  3.82959109  3.21545695  3.66778877  3.97317125  2.79517564  2.58092145\n",
      "  2.81520644  2.5811331   1.81108598  2.83386886  1.76458715  1.80939713\n",
      "  2.4352394   3.81267956  5.23000725  2.95303829  3.50927426  4.12349969\n",
      "  1.4177408   0.20197784  2.19360249  1.66680712  2.04590565  2.59641654\n",
      "  4.00142173  1.93128075  2.22710066  2.62011589  1.97008175  4.20102639\n",
      "  2.69757873  4.27471427  2.23714694  5.0235329   4.39291124  3.44761031\n",
      "  1.770926    2.99061862  2.10343517  1.84819439  2.41391859  3.36533037\n",
      "  2.97477726  3.00539986  3.485442    2.83455688  3.29965352  1.66402132\n",
      "  2.50365809  3.44997375  3.63137921  3.35002637  2.14352295  3.58804957\n",
      "  3.04323413  4.43189133  2.82916045  2.88286793  1.83374207  2.52705321\n",
      "  2.37699749  2.76676041  1.46012139  5.04864726  1.68695832  3.80614942\n",
      "  2.71298881  2.42108456  1.73679935  2.89944389  3.12047612  2.67377941\n",
      "  2.90102826  2.45500804  4.27561049  3.98584434  3.91779554  3.50859581\n",
      "  2.88474693  2.89820219  1.65958395  2.59248422  2.33069817  1.81872222\n",
      "  3.69824061  3.3716692   4.59641692  2.88265003  3.76107321  3.95595727\n",
      "  2.82428131  2.14130031  0.80468087  1.31332383  1.33034394  3.02554523\n",
      "  1.8707309   1.37237597  3.86431908  5.0060784   3.04627573  2.95774874\n",
      "  5.00454857  4.12771163  2.82128764  2.78200832  2.89847628  4.12654186\n",
      "  2.24235682  2.94480643  3.10341825  3.81361356  1.34345814  2.37327571\n",
      "  3.96068897  2.80395989  2.77350793  3.82530811  3.44228023  2.36737208\n",
      "  3.90658499  3.11196414  2.81291012  4.11100768  5.0207138   3.93059116\n",
      "  2.52411867  1.2268504   3.28932372  2.57527833  1.98344421  3.38080071\n",
      "  3.74909902  4.23132758  3.20843918  3.10990097  2.15114695  3.45938767\n",
      "  2.98345831  1.83231615  0.92135459  3.00640023  3.78797769  1.36168751\n",
      "  3.57623649  3.45950381  3.83338144  1.19861466  2.78613285  3.47134287\n",
      "  4.77690451  3.90414155  4.46280614  2.00804382  3.25844465  5.33061514\n",
      "  2.8800485   4.97181624  3.45633162  1.49043633  3.43041323  2.91749859\n",
      "  3.0114308   1.96319237  3.58198888  2.94362595  3.52504486  4.1619665\n",
      "  2.80201696  2.96957178  2.29454299  3.23294794  2.98220135  2.69764871\n",
      "  3.06021499  1.7764192   2.39230888  2.10601732  1.62045237  3.60450805\n",
      "  4.8367264   3.73660926  2.18076517  3.6488567   2.21919011  3.72661284\n",
      "  4.30323961  2.32253653  4.0631517   4.84748469  3.98922533  4.28783065\n",
      "  3.30933746  1.04602578  2.79229559  4.99981297  2.96955566  3.97329632\n",
      "  2.27317771  3.8389598   1.71219416  2.47209457  3.30475692  3.95725501\n",
      "  1.75055554  4.66071242  2.92514152  1.75641804  2.75917256  4.76807589\n",
      "  1.7786683   4.1148978   2.67354472  3.58084867  3.5723222   1.22114525\n",
      "  1.1618102   2.63524022  2.46656702  4.34162549  4.0080024   4.11109073\n",
      "  4.85227001  3.8859983   2.09650618  4.58219016  3.52361266  2.71423445\n",
      "  3.19448429  3.4986616   3.66326202  3.87786026  3.72289166  2.63296642\n",
      "  3.92776137  4.06947003  1.26752356  2.56445951  1.98901441  3.26373621\n",
      "  3.43138052  3.25641301  3.00558897  3.2261865   2.14918249  2.37630385\n",
      "  2.73318929  3.32147798  2.23410883  3.3509795   2.63105896  3.52597552\n",
      "  2.90869453  1.25597952  0.72991094  2.70449507  1.47544053  1.89494286\n",
      "  3.01230522  2.76304887  5.39919168  3.63276123  3.1077994   3.71964007\n",
      "  2.55183982  2.78450682  2.6108708   2.68439688  2.92483166  3.86557739\n",
      "  3.81653951  4.48586282  3.09005506  3.11170887  1.95132133  3.17016119\n",
      "  2.54841569  2.61732203  3.11316506  3.11639213  1.23913782  3.23719778\n",
      "  2.83441251  4.0976267   2.20417863  3.06554025  2.22993128  2.80201267\n",
      "  2.36519457  1.88563726  2.04582908  2.87890109  2.24002541  3.70756288\n",
      "  5.25672597  3.62378095  2.26975156  2.61054765  4.17275001  2.06670713\n",
      "  2.12228019  2.55269431  3.74577973  4.36053481  3.15014788  3.02626722\n",
      "  2.4420046   3.84058887  2.07289974  3.48487146  1.45070835  3.13402212\n",
      "  2.20463495  1.74179534  4.30938621  2.59694229  4.5696048   1.32974319\n",
      "  2.62538615  2.7028843   2.61313376  3.55498633  3.82881835  3.45011208\n",
      "  2.42687039  2.95349789  2.74209114  4.01682891  3.23543863  3.35651562\n",
      "  3.69064243  1.87642679  3.01380189  2.63662328  2.88740525  2.01444457\n",
      "  3.48168243  4.75489029  2.73254509  2.11955218  1.51640075  4.38972436\n",
      "  4.02819198  3.28504541  5.00685755  1.08083151  4.37974721  4.93261892\n",
      "  3.6894305   3.79777972  3.65365197  3.36729223  1.09386138  4.71431447\n",
      "  4.07705453  2.59893102  1.41032749  2.96136644  3.35047185  4.78331356\n",
      "  3.58242668  2.97202058  2.69682079  2.30543118  3.26903065  3.64431449\n",
      "  3.88789746  0.73808652  2.28493241  1.84178607  2.25895954  4.06001067\n",
      "  1.90801561  4.0913584   1.4100376   2.57174328  0.95743895  3.73140847\n",
      "  0.72784487  2.02136862  2.6406861   1.52755802  2.63063945  2.21729977\n",
      "  3.16152299  3.44030304  2.63458217  2.19808376  2.76846222  2.84096255\n",
      "  2.18046778  5.2571153   2.87969329  2.71713951  3.13831147  2.83653998\n",
      "  1.00747217  4.29407875  2.13974698  1.48614787  2.71824208  3.00302685\n",
      "  3.08000797  1.45720596  2.42726576  2.35936938  3.71344643  2.32237957\n",
      "  2.76440352  2.44782919  2.76405328  3.4807998   2.3302897   2.06374012\n",
      "  2.21183507  4.1718764   3.84281671  3.01203288  3.81797507  4.41496933\n",
      "  5.18093886  2.35801116  2.69324837  3.42331276  2.79235164  3.18153373\n",
      "  2.36200162  3.90957114  2.24525731  2.50952408  0.67910654  3.02752401\n",
      "  2.62696436  4.46411441  2.71596439  3.63530339  3.01605643  2.866277\n",
      "  3.94264399  3.40875376  1.85020423  3.58860112  2.54178748  2.59921359\n",
      "  1.21028787  4.33444521  2.27810861  2.87246948  3.12600134  2.96384263\n",
      "  4.4987019   5.05817146  2.88806704  2.32337097  4.81428918  4.35568165\n",
      "  3.28900401  2.48106008  3.84605137  2.80284593  2.81319413  2.35484069\n",
      "  3.53161859  4.84119011  2.96043765  2.57430976  4.90503549  3.35097407\n",
      "  1.91528766  2.06191902  2.33753476  2.36854955  3.59842916  4.38401356\n",
      "  4.13166519  2.5777606   1.14077599  3.33424832  2.8649802   2.48885583\n",
      "  2.58582957  2.3630716   4.18911728  3.62400106  1.33320879  2.35645233\n",
      "  5.4527684   2.66564873  2.80267245  1.41934203  3.87183173  2.80412983\n",
      "  2.3152757   3.8888736   4.2372116   2.88674068  3.22939426  2.37017249\n",
      "  2.66206456  1.78432991  2.38783927  4.2111085   2.43902755  3.70588234\n",
      "  3.8434148   3.32666551  1.61436083  2.44144172  1.51218941  2.12862153\n",
      "  3.50475325  3.32850944  2.57818737  3.4956307   1.2717983   2.97000906\n",
      "  3.77436796  2.25007417  1.57298041  2.00875184  1.85651271  4.17021854\n",
      "  1.68830968  2.10357696  1.77155151  2.91967881  3.12551124  1.2051519\n",
      "  1.30883172  1.07126163  2.83484418  3.65862994  1.88357116  2.81040402\n",
      "  3.32454867  3.31355027  3.38152369  1.26527698  2.87654434  3.68167251\n",
      "  3.54027806  2.4113432   3.46506608  2.28270881  3.45765046  3.72933427\n",
      "  3.96573505  3.15491236  1.49564569  4.48114352  3.54355305  3.11912374\n",
      "  2.7943868   2.75594471  2.90713567  3.29080214  1.95905463  2.89685245\n",
      "  1.63095135  2.62491413  4.60779783  1.17828805  2.16122877  2.29022395\n",
      "  3.53891662  2.94976743  3.30814478  3.03726763  1.91262018  3.32298463\n",
      "  2.38284636  2.1995311   3.41442858  1.26469662  1.06030325  3.01102781\n",
      "  3.26925393  3.72620926  3.68076976  3.10519138  2.4945442   2.31250354\n",
      "  4.27660695  2.20225428  1.61349231  4.05220139  2.51356571  1.61227635\n",
      "  5.06890632  2.32014751  3.30776797  3.6291225   4.53710039  2.84166791\n",
      "  1.10994798  2.58589559  4.12579845  0.115352    2.93299466  3.26492479\n",
      "  2.34058074  3.13524753  3.09921878  3.5871716 ]\n",
      "=====\n",
      "(2000,)\n"
     ]
    }
   ],
   "source": [
    "\n",
    "#import pdb\n",
    "#pdb.set_trace()\n",
    "\n",
    "x1_label1 = np.random.normal(3, 1, 1000)\n",
    "print x1_label1\n",
    "x2_label1 = np.random.normal(2, 1, 1000)\n",
    "x1_label2 = np.random.normal(7, 1, 1000)\n",
    "x2_label2 = np.random.normal(6, 1, 1000)\n",
    "x1s = np.append(x1_label1, x1_label2)\n",
    "print \"=====\"\n",
    "print x1s.shape\n",
    "\n",
    "\n",
    "x2s = np.append(x2_label1, x2_label2)\n",
    "ys = np.asarray([0.] * len(x1_label1) + [1.] * len(x1_label2))"
   ]
  },
  {
   "cell_type": "markdown",
   "metadata": {},
   "source": [
    "Define placeholders, variables, model, and the training op:"
   ]
  },
  {
   "cell_type": "code",
   "execution_count": 12,
   "metadata": {},
   "outputs": [],
   "source": [
    "X1 = tf.placeholder(tf.float32, shape=(None,), name=\"x1\")\n",
    "X2 = tf.placeholder(tf.float32, shape=(None,), name=\"x2\")\n",
    "Y = tf.placeholder(tf.float32, shape=(None,), name=\"y\")\n",
    "w = tf.Variable([0., 0., 0.], name=\"w\", trainable=True)\n",
    "\n",
    "y_model = tf.sigmoid(-(w[2] * X2 + w[1] * X1 + w[0]))\n",
    "cost = tf.reduce_mean(-tf.log(y_model * Y + (1 - y_model) * (1 - Y)))\n",
    "train_op = tf.train.GradientDescentOptimizer(learning_rate).minimize(cost)"
   ]
  },
  {
   "cell_type": "markdown",
   "metadata": {},
   "source": [
    "Train the model on the data in a session:"
   ]
  },
  {
   "cell_type": "code",
   "execution_count": 13,
   "metadata": {},
   "outputs": [
    {
     "name": "stdout",
     "output_type": "stream",
     "text": [
      "(0, 0.69314593)\n",
      "(100, 0.3659552)\n",
      "(200, 0.26484862)\n",
      "(300, 0.20764609)\n",
      "(400, 0.17152959)\n",
      "(500, 0.14684066)\n",
      "(600, 0.12894076)\n",
      "(700, 0.11537393)\n"
     ]
    }
   ],
   "source": [
    "with tf.Session() as sess:\n",
    "    sess.run(tf.global_variables_initializer())\n",
    "    prev_err = 0\n",
    "    for epoch in range(training_epochs):\n",
    "        err, _ = sess.run([cost, train_op], {X1: x1s, X2: x2s, Y: ys})\n",
    "        if epoch % 100 == 0:\n",
    "            print(epoch, err)\n",
    "        if abs(prev_err - err) < 0.0001:\n",
    "            break\n",
    "        prev_err = err\n",
    "\n",
    "    w_val = sess.run(w, {X1: x1s, X2: x2s, Y: ys})"
   ]
  },
  {
   "cell_type": "markdown",
   "metadata": {},
   "source": [
    "Here's one hacky, but simple, way to figure out the decision boundary of the classifier: "
   ]
  },
  {
   "cell_type": "code",
   "execution_count": 14,
   "metadata": {},
   "outputs": [],
   "source": [
    "x1_boundary, x2_boundary = [], []\n",
    "with tf.Session() as sess:\n",
    "    for x1_test in np.linspace(0, 10, 20):\n",
    "        for x2_test in np.linspace(0, 10, 20):\n",
    "            z = sess.run(tf.sigmoid(-x2_test*w_val[2] - x1_test*w_val[1] - w_val[0]))\n",
    "            if abs(z - 0.5) < 0.05:\n",
    "                x1_boundary.append(x1_test)\n",
    "                x2_boundary.append(x2_test)"
   ]
  },
  {
   "cell_type": "markdown",
   "metadata": {},
   "source": [
    "Ok, enough code. Let's see some a pretty plot:"
   ]
  },
  {
   "cell_type": "code",
   "execution_count": 15,
   "metadata": {},
   "outputs": [
    {
     "name": "stderr",
     "output_type": "stream",
     "text": [
      "/usr/lib/pymodules/python2.7/matplotlib/collections.py:548: FutureWarning: elementwise comparison failed; returning scalar instead, but in the future will perform elementwise comparison\n",
      "  if self._edgecolors == 'face':\n"
     ]
    },
    {
     "data": {
      "image/png": "[encoded data removed]",
      "text/plain": [
       "<matplotlib.figure.Figure at 0x7f3c5f46e0d0>"
      ]
     },
     "metadata": {},
     "output_type": "display_data"
    }
   ],
   "source": [
    "plt.scatter(x1_boundary, x2_boundary, c='b', marker='o', s=20)\n",
    "plt.scatter(x1_label1, x2_label1, c='r', marker='x', s=20)\n",
    "plt.scatter(x1_label2, x2_label2, c='g', marker='1', s=20)\n",
    "\n",
    "plt.show()"
   ]
  }
 ],
 "metadata": {
  "kernelspec": {
   "display_name": "Python 2",
   "language": "python",
   "name": "python2"
  },
  "language_info": {
   "codemirror_mode": {
    "name": "ipython",
    "version": 2
   },
   "file_extension": ".py",
   "mimetype": "text/x-python",
   "name": "python",
   "nbconvert_exporter": "python",
   "pygments_lexer": "ipython2",
   "version": "2.7.6"
  }
 },
 "nbformat": 4,
 "nbformat_minor": 1
}
