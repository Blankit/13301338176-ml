{
 "cells": [
  {
   "cell_type": "markdown",
   "metadata": {},
   "source": [
    "# Ch `02`: Concept `08`"
   ]
  },
  {
   "cell_type": "markdown",
   "metadata": {},
   "source": [
    "## Using TensorBoard"
   ]
  },
  {
   "cell_type": "markdown",
   "metadata": {},
   "source": [
    "TensorBoard is a great way to visualize what's happening behind the code. \n",
    "\n",
    "In this example, we'll loop through some numbers to improve our guess of the average value. Then we can visualize the results on TensorBoard. \n",
    "\n",
    "Let's just set ourselves up with some data to work with:"
   ]
  },
  {
   "cell_type": "code",
   "execution_count": 1,
   "metadata": {},
   "outputs": [],
   "source": [
    "import tensorflow as tf\n",
    "import numpy as np\n",
    "\n",
    "raw_data = np.random.normal(10, 1, 100)"
   ]
  },
  {
   "cell_type": "markdown",
   "metadata": {},
   "source": [
    "The moving average is defined as follows:"
   ]
  },
  {
   "cell_type": "code",
   "execution_count": 2,
   "metadata": {},
   "outputs": [],
   "source": [
    "alpha = tf.constant(0.05)\n",
    "curr_value = tf.placeholder(tf.float32)\n",
    "prev_avg = tf.Variable(0.)\n",
    "\n",
    "update_avg = alpha * curr_value + (1 - alpha) * prev_avg"
   ]
  },
  {
   "cell_type": "markdown",
   "metadata": {},
   "source": [
    "Here's what we care to visualize:"
   ]
  },
  {
   "cell_type": "code",
   "execution_count": 5,
   "metadata": {},
   "outputs": [],
   "source": [
    "avg_hist = tf.summary.scalar(\"running_average\", update_avg)\n",
    "value_hist = tf.summary.scalar(\"incoming_values\", curr_value)\n",
    "\n",
    "merged = tf.summary.merge_all()\n",
    "writer = tf.summary.FileWriter(\"/tmp/test/logs\")"
   ]
  },
  {
   "cell_type": "markdown",
   "metadata": {},
   "source": [
    "Time to compute the moving averages. We'll also run the `merged` op to track how the values change:"
   ]
  },
  {
   "cell_type": "code",
   "execution_count": 6,
   "metadata": {},
   "outputs": [
    {
     "name": "stdout",
     "output_type": "stream",
     "text": [
      "(10.090804034596614, 0.50454021)\n",
      "(13.204499546483426, 1.1395382)\n",
      "(11.328893263873848, 1.6490059)\n",
      "(11.466337001824286, 2.1398726)\n",
      "(10.12587741638289, 2.5391726)\n",
      "(7.8438871590072559, 2.8044083)\n",
      "(10.929806637027228, 3.2106783)\n",
      "(8.4379814026103297, 3.4720435)\n",
      "(8.9508408438812666, 3.7459834)\n",
      "(9.5723758269503101, 4.037303)\n",
      "(9.6250803404496814, 4.3166919)\n",
      "(9.3655855829611365, 4.5691366)\n",
      "(11.998823564812197, 4.9406209)\n",
      "(11.606147229584789, 5.2738972)\n",
      "(9.2534660144037915, 5.4728756)\n",
      "(10.295837286277582, 5.7140236)\n",
      "(9.2096229402660548, 5.8888035)\n",
      "(9.4612692994963972, 6.0674267)\n",
      "(11.739921294192285, 6.3510513)\n",
      "(8.4186861111490998, 6.454433)\n",
      "(8.0755176006443232, 6.5354867)\n",
      "(8.8600662325470285, 6.6517153)\n",
      "(10.928522146911217, 6.8655558)\n",
      "(9.3914256620758785, 6.9918489)\n",
      "(10.713045805665558, 7.1779084)\n",
      "(9.28306585595511, 7.2831664)\n",
      "(10.744224369610867, 7.4562192)\n",
      "(9.0209877366469851, 7.5344577)\n",
      "(10.105926376151299, 7.6630311)\n",
      "(9.5468304310667058, 7.7572212)\n",
      "(10.101356275602557, 7.8744278)\n",
      "(8.5472108761731214, 7.9080667)\n",
      "(10.709661268758241, 8.0481462)\n",
      "(9.3363628992787699, 8.1125565)\n",
      "(8.9747508654002672, 8.1556664)\n",
      "(10.17716174476114, 8.2567406)\n",
      "(9.940737864776521, 8.3409405)\n",
      "(8.6431417762915697, 8.3560505)\n",
      "(10.394978598774564, 8.4579964)\n",
      "(9.8350522112472731, 8.5268488)\n",
      "(11.624576160342215, 8.681735)\n",
      "(9.1590647979216406, 8.7056017)\n",
      "(9.3711700233646678, 8.7388802)\n",
      "(10.0822448822335, 8.8060484)\n",
      "(9.9899479568356071, 8.865243)\n",
      "(9.3967700600621384, 8.891819)\n",
      "(9.9765253775750899, 8.9460535)\n",
      "(10.330705518121899, 9.0152855)\n",
      "(7.9889529151985066, 8.9639683)\n",
      "(11.333183344755801, 9.0824289)\n",
      "(10.53943306830806, 9.1552792)\n",
      "(9.7868677001096049, 9.1868591)\n",
      "(10.927336557435606, 9.2738829)\n",
      "(8.5277884437575135, 9.236578)\n",
      "(9.2294892659175058, 9.2362232)\n",
      "(10.825514505331022, 9.3156881)\n",
      "(9.4189845924804931, 9.3208532)\n",
      "(11.480241536671498, 9.4288225)\n",
      "(10.781534347771753, 9.4964581)\n",
      "(10.211533333474664, 9.5322113)\n",
      "(8.4705039843388867, 9.479125)\n",
      "(9.2535536108083267, 9.4678469)\n",
      "(10.42224777666601, 9.5155668)\n",
      "(11.672912504551993, 9.6234341)\n",
      "(10.448665499430373, 9.6646957)\n",
      "(9.9823547275016331, 9.6805782)\n",
      "(11.704945117515901, 9.7817965)\n",
      "(8.5585594556116362, 9.7206345)\n",
      "(9.9380229381160294, 9.7315044)\n",
      "(9.1894498133059255, 9.704402)\n",
      "(10.346120454745042, 9.7364883)\n",
      "(10.047963411891605, 9.7520618)\n",
      "(9.4132464586613036, 9.7351208)\n",
      "(8.9823836191192168, 9.697484)\n",
      "(8.8197730328544992, 9.6535978)\n",
      "(6.8499366793550962, 9.5134144)\n",
      "(9.119658607997609, 9.4937267)\n",
      "(10.107906367938533, 9.524435)\n",
      "(10.595226196127721, 9.5779743)\n",
      "(10.189366989970825, 9.6085434)\n",
      "(9.6439805477458265, 9.6103144)\n",
      "(8.7850980870059558, 9.5690536)\n",
      "(10.43972229459694, 9.612587)\n",
      "(10.429676320829799, 9.6534405)\n",
      "(11.283245778773246, 9.734931)\n",
      "(8.9655823813343556, 9.6964636)\n",
      "(9.5024406393591967, 9.6867628)\n",
      "(9.0017893501870674, 9.6525145)\n",
      "(8.6491892898479481, 9.6023483)\n",
      "(8.1492804268778336, 9.5296946)\n",
      "(10.4787322041597, 9.5771456)\n",
      "(11.204972239060462, 9.6585369)\n",
      "(10.959583425101222, 9.7235889)\n",
      "(9.4543257736258131, 9.7101259)\n",
      "(9.1242405533227267, 9.6808319)\n",
      "(9.9680192648013541, 9.6951904)\n",
      "(9.8626515005253985, 9.7035637)\n",
      "(9.7161312155808517, 9.7041922)\n",
      "(8.0089146871964463, 9.6194286)\n",
      "(10.196406734584734, 9.6482773)\n"
     ]
    }
   ],
   "source": [
    "init = tf.global_variables_initializer()\n",
    "\n",
    "with tf.Session() as sess:\n",
    "    sess.run(init)\n",
    "    for i in range(len(raw_data)):\n",
    "        summary_str, curr_avg = sess.run([merged, update_avg], feed_dict={curr_value: raw_data[i]})\n",
    "        sess.run(tf.assign(prev_avg, curr_avg))\n",
    "        print(raw_data[i], curr_avg)\n",
    "        writer.add_summary(summary_str, i)"
   ]
  },
  {
   "cell_type": "markdown",
   "metadata": {},
   "source": [
    "Check out the visualization by running TensorBoard from the terminal:\n",
    "\n",
    "    $ tensorboard --logdir=path/to/logs"
   ]
  }
 ],
 "metadata": {
  "kernelspec": {
   "display_name": "Python 2",
   "language": "python",
   "name": "python2"
  },
  "language_info": {
   "codemirror_mode": {
    "name": "ipython",
    "version": 2
   },
   "file_extension": ".py",
   "mimetype": "text/x-python",
   "name": "python",
   "nbconvert_exporter": "python",
   "pygments_lexer": "ipython2",
   "version": "2.7.6"
  }
 },
 "nbformat": 4,
 "nbformat_minor": 1
}
