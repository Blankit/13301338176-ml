{
 "cells": [
  {
   "cell_type": "code",
   "execution_count": 1,
   "metadata": {
    "collapsed": false
   },
   "outputs": [
    {
     "name": "stdout",
     "output_type": "stream",
     "text": [
      "总用量 0\n",
      "INFO:tensorflow:/tmp/tflearn_logs/model.tfl is not in all_model_checkpoint_paths. Manually adding it.\n",
      "总用量 1736\n",
      "-rw-rw-r-- 1 haijunz haijunz     111  3月  6 21:33 checkpoint\n",
      "-rw-rw-r-- 1 haijunz haijunz 1632921  3月  6 21:33 model.tfl.data-00000-of-00001\n",
      "-rw-rw-r-- 1 haijunz haijunz     929  3月  6 21:33 model.tfl.index\n",
      "-rw-rw-r-- 1 haijunz haijunz  134298  3月  6 21:33 model.tfl.meta\n"
     ]
    }
   ],
   "source": [
    "\"\"\" An example showing how to save/restore models and retrieve weights. \"\"\"\n",
    "\n",
    "from __future__ import absolute_import, division, print_function\n",
    "\n",
    "import tflearn\n",
    "\n",
    "import tflearn.datasets.mnist as mnist\n",
    "\n",
    "#! mkdir -p /tmp/tflearn_logs/model\n",
    "\n",
    "!  ls -l   /tmp/tflearn_logs\n",
    "input_layer = tflearn.input_data(shape=[None, 784], name='input')\n",
    "dense1 = tflearn.fully_connected(input_layer, 128, name='dense1')\n",
    "dense2 = tflearn.fully_connected(dense1, 256, name='dense2')\n",
    "softmax = tflearn.fully_connected(dense2, 10, activation='softmax')\n",
    "regression = tflearn.regression(softmax, optimizer='adam',\n",
    "                                learning_rate=0.001,\n",
    "                                loss='categorical_crossentropy')\n",
    "\n",
    "# Define classifier, with model checkpoint (autosave)\n",
    "#model = tflearn.DNN(regression, checkpoint_path='model.tfl.ckpt')\n",
    "model = tflearn.DNN(regression, checkpoint_path='model.tfl.ckpt',tensorboard_verbose=3)\n",
    "\n",
    "# Train model, with model checkpoint every epoch and every 200 training steps.\n",
    "# ---------------------\n",
    "# Save and load a model\n",
    "# ---------------------\n",
    "\n",
    "# Manually save model\n",
    "model.save(\"/tmp/tflearn_logs/model.tfl\")\n",
    "\n",
    "!  ls -l   /tmp/tflearn_logs/\n",
    "\n",
    "\n"
   ]
  }
 ],
 "metadata": {
  "kernelspec": {
   "display_name": "Python 2",
   "language": "python",
   "name": "python2"
  },
  "language_info": {
   "codemirror_mode": {
    "name": "ipython",
    "version": 2
   },
   "file_extension": ".py",
   "mimetype": "text/x-python",
   "name": "python",
   "nbconvert_exporter": "python",
   "pygments_lexer": "ipython2",
   "version": "2.7.6"
  }
 },
 "nbformat": 4,
 "nbformat_minor": 2
}
