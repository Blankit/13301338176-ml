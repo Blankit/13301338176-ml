{
 "cells": [
  {
   "cell_type": "code",
   "execution_count": 1,
   "metadata": {},
   "outputs": [
    {
     "name": "stdout",
     "output_type": "stream",
     "text": [
      "Output After Training: \n",
      " [[ 0.00260572]\n",
      " [ 0.99672209]\n",
      " [ 0.99701711]\n",
      " [ 0.00386759]]\n"
     ]
    }
   ],
   "source": [
    "# source: http://iamtrask.github.io\n",
    "import numpy as np\n",
    "\n",
    "X_XOR = np.array([[0,0,1], [0,1,1], [1,0,1],[1,1,1]]) \n",
    "y_truth = np.array([[0],[1],[1],[0]])\n",
    "\n",
    "np.random.seed(1)\n",
    "syn_0 = 2*np.random.random((3,4)) - 1\n",
    "syn_1 = 2*np.random.random((4,1)) - 1\n",
    "\n",
    "def sigmoid(x):\n",
    "    output = 1/(1+np.exp(-x))\n",
    "    return output\n",
    "def sigmoid_output_to_derivative(output):\n",
    "    return output*(1-output) \n",
    "\n",
    "for j in range(60000):\n",
    "    layer_1 = sigmoid(np.dot(X_XOR, syn_0))\n",
    "    layer_2 = sigmoid(np.dot(layer_1, syn_1))\n",
    "    layer_2_error = y_truth - layer_2\n",
    "    layer_2_delta = layer_2_error * sigmoid_output_to_derivative(layer_2)\n",
    "    layer_1_error = layer_2_delta.dot(syn_1.T)\n",
    "    layer_1_delta = layer_1_error * sigmoid_output_to_derivative(layer_1)\n",
    "    syn_1 += layer_1.T.dot(layer_2_delta)\n",
    "    syn_0 += X_XOR.T.dot(layer_1_delta)\n",
    "    \n",
    "print(\"Output After Training: \\n\", layer_2)"
   ]
  },
  {
   "cell_type": "code",
   "execution_count": null,
   "metadata": {
    "collapsed": true
   },
   "outputs": [],
   "source": []
  }
 ],
 "metadata": {
  "kernelspec": {
   "display_name": "Python 3",
   "language": "python",
   "name": "python3"
  },
  "language_info": {
   "codemirror_mode": {
    "name": "ipython",
    "version": 3
   },
   "file_extension": ".py",
   "mimetype": "text/x-python",
   "name": "python",
   "nbconvert_exporter": "python",
   "pygments_lexer": "ipython3",
   "version": "3.6.1"
  }
 },
 "nbformat": 4,
 "nbformat_minor": 2
}
