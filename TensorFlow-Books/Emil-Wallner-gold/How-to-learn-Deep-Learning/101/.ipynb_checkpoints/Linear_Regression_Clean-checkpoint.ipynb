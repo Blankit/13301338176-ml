{
 "cells": [
  {
   "cell_type": "code",
   "execution_count": 1,
   "metadata": {},
   "outputs": [
    {
     "name": "stdout",
     "output_type": "stream",
     "text": [
      "hdf5 is not supported on this machine (please install/reinstall h5py for optimal experience)\n"
     ]
    },
    {
     "data": {
      "image/png": "[encoded data removed]",
      "text/plain": [
       "<matplotlib.figure.Figure at 0x116a0a748>"
      ]
     },
     "metadata": {},
     "output_type": "display_data"
    }
   ],
   "source": [
    "\"\"\" Linear Regression Example \"\"\"\n",
    "\n",
    "%matplotlib inline\n",
    "from __future__ import absolute_import, division, print_function\n",
    "import tflearn\n",
    "import seaborn as sns\n",
    "import pandas as pd\n",
    "\n",
    "# Regression data\n",
    "X = [3.3,4.4,5.5,6.71,6.93,4.168,9.779,6.182,7.59,2.167,7.042,10.791,5.313,7.997,5.654,9.27,3.1]\n",
    "Y = [1.7,2.76,2.09,3.19,1.694,1.573,3.366,2.596,2.53,1.221,2.827,3.465,1.65,2.904,2.42,2.94,1.3]\n",
    "\n",
    "# Create a pandas dataframe and visulize it with seaborn\n",
    "df = pd.DataFrame()\n",
    "df[\"X\"] = X\n",
    "df[\"Y\"] = Y\n",
    "sns.regplot(x=\"X\", y=\"Y\", data=df, fit_reg=False);"
   ]
  },
  {
   "cell_type": "code",
   "execution_count": 2,
   "metadata": {},
   "outputs": [
    {
     "data": {
      "image/png": "[encoded data removed]",
      "text/plain": [
       "<matplotlib.figure.Figure at 0x108748160>"
      ]
     },
     "metadata": {},
     "output_type": "display_data"
    }
   ],
   "source": [
    "# The blue line is what we want to predict with our neural net by using gradient descent\n",
    "sns.regplot(x=\"X\", y=\"Y\", data=df, fit_reg=True);"
   ]
  },
  {
   "cell_type": "code",
   "execution_count": 3,
   "metadata": {},
   "outputs": [
    {
     "name": "stdout",
     "output_type": "stream",
     "text": [
      "Training Step: 1000  | total loss: \u001b[1m\u001b[32m0.15678\u001b[0m\u001b[0m | time: 0.002s\n",
      "| SGD | epoch: 1000 | loss: 0.15678 - R2: 0.9799 -- iter: 17/17\n",
      "\n",
      "Regression result:\n",
      "Y = [ 0.23053227]*X + [ 0.94840968]\n",
      "\n",
      "Test prediction for x = 3.2, 3.3, 3.4:\n",
      "[ 1.68611288  1.70916617  1.73221946]\n"
     ]
    }
   ],
   "source": [
    "# TFlearn code from: https://github.com/tflearn/tflearn/tree/master/examples/basics, Author: Aymeric Damien\n",
    "# Linear Regression graph\n",
    "# Input Layer\n",
    "input_ = tflearn.input_data(shape=[None])\n",
    "linear = tflearn.single_unit(input_)\n",
    "# Output Layer\n",
    "regression = tflearn.regression(linear, optimizer='sgd', loss='mean_square',\n",
    "                                metric='R2', learning_rate=0.01)\n",
    "# Train the model\n",
    "m = tflearn.DNN(regression)\n",
    "m.fit(X, Y, n_epoch=1000, show_metric=True, snapshot_epoch=False)\n",
    "\n",
    "# Print the result\n",
    "print(\"\\nRegression result:\")\n",
    "print(\"Y = \" + str(m.get_weights(linear.W)) +\n",
    "      \"*X + \" + str(m.get_weights(linear.b)))\n",
    "\n",
    "print(\"\\nTest prediction for x = 3.2, 3.3, 3.4:\")\n",
    "print(m.predict([3.2, 3.3, 3.4]))\n",
    "# should output (close, not exact) y = [1.5315033197402954, 1.5585315227508545, 1.5855598449707031]"
   ]
  },
  {
   "cell_type": "markdown",
   "metadata": {},
   "source": [
    "## A visual example of the gradient descent\n",
    "![alt text](gradient_descent_example.gif \"Title\")\n",
    "Source: https://github.com/mattnedrich/GradientDescentExample/blob/master/gradient_descent_example.gif"
   ]
  },
  {
   "cell_type": "code",
   "execution_count": null,
   "metadata": {
    "collapsed": true
   },
   "outputs": [],
   "source": []
  }
 ],
 "metadata": {
  "kernelspec": {
   "display_name": "Python 3",
   "language": "python",
   "name": "python3"
  },
  "language_info": {
   "codemirror_mode": {
    "name": "ipython",
    "version": 3
   },
   "file_extension": ".py",
   "mimetype": "text/x-python",
   "name": "python",
   "nbconvert_exporter": "python",
   "pygments_lexer": "ipython3",
   "version": "3.6.1"
  }
 },
 "nbformat": 4,
 "nbformat_minor": 2
}
