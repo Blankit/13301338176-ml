{
 "cells": [
  {
   "cell_type": "code",
   "execution_count": 70,
   "metadata": {},
   "outputs": [
    {
     "name": "stdout",
     "output_type": "stream",
     "text": [
      "Training Step: 200  | total loss: \u001b[1m\u001b[32m0.00537\u001b[0m\u001b[0m | time: 0.002s\n",
      "| SGD | epoch: 200 | loss: 0.00537 -- iter: 4/4\n",
      "Testing XOR operator\n",
      "0 xor 0: [[ 0.10661901]]\n",
      "0 xor 1: [[ 0.95320207]]\n",
      "1 xor 0: [[ 0.95321006]]\n",
      "1 xor 1: [[ 0.03628804]]\n"
     ]
    }
   ],
   "source": [
    "import tflearn\n",
    "import tensorflow as tf\n",
    "\n",
    "# Data\n",
    "X = [[0., 0.], [0., 1.], [1., 0.], [1., 1.]]\n",
    "Y_xor = [[0.], [1.], [1.], [0.]]\n",
    "\n",
    "tf.reset_default_graph()\n",
    "\n",
    "# Graph definition\n",
    "#with tf.Graph().as_default():\n",
    "    # Building a network with 2 optimizers\n",
    "#g = tflearn.initializations.zeros()\n",
    "tnorm = tflearn.initializations.uniform(minval=.5, maxval=1.0)\n",
    "g = tflearn.input_data(shape=[None, 2])\n",
    "tflearn.init_graph(seed=1)\n",
    "g = tflearn.fully_connected(g, 2, activation='relu', weights_init=tnorm)\n",
    "g = tflearn.fully_connected(g, 1, activation='sigmoid')\n",
    "g = tflearn.regression(g, optimizer='sgd', learning_rate=2.,\n",
    "                           loss='mean_square')\n",
    "\n",
    "# Training\n",
    "m = tflearn.DNN(g)\n",
    "m.fit(X, Y_xor, n_epoch=200, snapshot_epoch=False)\n",
    "\n",
    "# Testing\n",
    "print(\"Testing XOR operator\")\n",
    "print(\"0 xor 0:\", m.predict([[0., 0.]]))\n",
    "print(\"0 xor 1:\", m.predict([[0., 1.]]))\n",
    "print(\"1 xor 0:\", m.predict([[1., 0.]]))\n",
    "print(\"1 xor 1:\", m.predict([[1., 1.]]))"
   ]
  },
  {
   "cell_type": "code",
   "execution_count": null,
   "metadata": {
    "collapsed": true
   },
   "outputs": [],
   "source": []
  }
 ],
 "metadata": {
  "kernelspec": {
   "display_name": "Python 3",
   "language": "python",
   "name": "python3"
  },
  "language_info": {
   "codemirror_mode": {
    "name": "ipython",
    "version": 3
   },
   "file_extension": ".py",
   "mimetype": "text/x-python",
   "name": "python",
   "nbconvert_exporter": "python",
   "pygments_lexer": "ipython3",
   "version": "3.6.2"
  }
 },
 "nbformat": 4,
 "nbformat_minor": 2
}
