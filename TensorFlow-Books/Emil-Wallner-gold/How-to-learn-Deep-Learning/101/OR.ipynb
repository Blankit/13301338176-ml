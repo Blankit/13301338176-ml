{
 "cells": [
  {
   "cell_type": "code",
   "execution_count": 7,
   "metadata": {},
   "outputs": [
    {
     "name": "stdout",
     "output_type": "stream",
     "text": [
      "Training Step: 1  | time: 0.030s\n",
      "| SGD | epoch: 001 | loss: 0.00000 -- iter: 4/4\n",
      "Testing OR operator\n",
      "0 or 0: [[ 0.56122786]]\n",
      "0 or 1: [[ 0.62370384]]\n",
      "1 or 0: [[ 0.62520134]]\n",
      "1 or 1: [[ 0.68370193]]\n"
     ]
    }
   ],
   "source": [
    "from __future__ import absolute_import, division, print_function\n",
    "\n",
    "import tensorflow as tf\n",
    "import tflearn\n",
    "\n",
    "tf.reset_default_graph()\n",
    "\n",
    "# Logical OR operator\n",
    "X = [[0, 0], [0, 1], [1, 0], [1, 1]]\n",
    "Y = [[0], [1], [1], [1]]\n",
    "\n",
    "# Graph definition\n",
    "g = tflearn.input_data(shape=[None, 2])\n",
    "g = tflearn.fully_connected(g, 1, activation='sigmoid', bias=True)\n",
    "g = tflearn.regression(g, optimizer='sgd', learning_rate=2, loss='mean_square')\n",
    "\n",
    "# Model training\n",
    "m = tflearn.DNN(g)\n",
    "m.fit(X, Y, n_epoch=1, snapshot_epoch=False)\n",
    "\n",
    "# Test model\n",
    "print(\"Testing OR operator\")\n",
    "print(\"0 or 0:\", m.predict([[0, 0]]))\n",
    "print(\"0 or 1:\", m.predict([[0, 1]]))\n",
    "print(\"1 or 0:\", m.predict([[1, 0]]))\n",
    "print(\"1 or 1:\", m.predict([[1, 1]]))"
   ]
  },
  {
   "cell_type": "code",
   "execution_count": 9,
   "metadata": {},
   "outputs": [
    {
     "name": "stdout",
     "output_type": "stream",
     "text": [
      "<class 'list'>\n"
     ]
    }
   ],
   "source": [
    "print(type(X))"
   ]
  },
  {
   "cell_type": "code",
   "execution_count": 10,
   "metadata": {},
   "outputs": [
    {
     "name": "stdout",
     "output_type": "stream",
     "text": [
      "<class 'float'>\n"
     ]
    }
   ],
   "source": [
    "print(type(1.))"
   ]
  },
  {
   "cell_type": "code",
   "execution_count": 11,
   "metadata": {},
   "outputs": [
    {
     "data": {
      "text/plain": [
       "0.6666666666666666"
      ]
     },
     "execution_count": 11,
     "metadata": {},
     "output_type": "execute_result"
    }
   ],
   "source": [
    "2/3"
   ]
  },
  {
   "cell_type": "code",
   "execution_count": null,
   "metadata": {
    "collapsed": true
   },
   "outputs": [],
   "source": []
  }
 ],
 "metadata": {
  "kernelspec": {
   "display_name": "Python 3",
   "language": "python",
   "name": "python3"
  },
  "language_info": {
   "codemirror_mode": {
    "name": "ipython",
    "version": 3
   },
   "file_extension": ".py",
   "mimetype": "text/x-python",
   "name": "python",
   "nbconvert_exporter": "python",
   "pygments_lexer": "ipython3",
   "version": "3.6.1"
  }
 },
 "nbformat": 4,
 "nbformat_minor": 2
}
