{
 "cells": [
  {
   "cell_type": "code",
   "execution_count": 1,
   "metadata": {},
   "outputs": [],
   "source": [
    "import numpy as np\n",
    "\n",
    "X_OR = np.array([[0,0,1], [0,1,1], [1,0,1], [1,1,1]])\n",
    "Y_truth = np.array([[0, 1, 1, 1]]).T"
   ]
  },
  {
   "cell_type": "code",
   "execution_count": 106,
   "metadata": {},
   "outputs": [
    {
     "data": {
      "text/plain": [
       "array([[  4.17022005e-01],\n",
       "       [  7.20324493e-01],\n",
       "       [  1.14374817e-04]])"
      ]
     },
     "execution_count": 106,
     "metadata": {},
     "output_type": "execute_result"
    }
   ],
   "source": [
    "np.random.seed(1)\n",
    "synapse_0 = np.random.random((3, 1))\n",
    "synapse_0"
   ]
  },
  {
   "cell_type": "code",
   "execution_count": 107,
   "metadata": {},
   "outputs": [],
   "source": [
    "def sigmoid(x):\n",
    "    return(1 / (1 + np.exp(-x)))"
   ]
  },
  {
   "cell_type": "code",
   "execution_count": 108,
   "metadata": {
    "collapsed": true
   },
   "outputs": [],
   "source": [
    "def sigmoid_der(output):\n",
    "    return (output * (1 - output))"
   ]
  },
  {
   "cell_type": "code",
   "execution_count": 109,
   "metadata": {},
   "outputs": [
    {
     "data": {
      "text/plain": [
       "array([[0],\n",
       "       [1],\n",
       "       [1],\n",
       "       [1]])"
      ]
     },
     "execution_count": 109,
     "metadata": {},
     "output_type": "execute_result"
    }
   ],
   "source": [
    "Y_truth"
   ]
  },
  {
   "cell_type": "code",
   "execution_count": 114,
   "metadata": {},
   "outputs": [],
   "source": [
    "for i in range(1000):\n",
    "    layer_1 = sigmoid(np.dot(X_OR, synapse_0))\n",
    "    #layer_1 = pre_layer_1.sum(axis=1).T\n",
    "    #layer_1 = sigmoid(layer_1).reshape(4,1)\n",
    "    error = Y_truth - layer_1\n",
    "    layer_1_delta = error * sigmoid_der(layer_1)\n",
    "    #layer_1_delta = layer_1_delta.sum(axis=0)\n",
    "    #print(layer_1_delta)\n",
    "    #print(X_OR)\n",
    "    #print(synapse_0)\n",
    "    synapse_0 += np.dot(X_OR.T, layer_1_delta) * 0.1\n",
    "#layer_1\n",
    "#layer_1_delta"
   ]
  },
  {
   "cell_type": "code",
   "execution_count": 115,
   "metadata": {},
   "outputs": [
    {
     "data": {
      "text/plain": [
       "array([[ 0.04966219],\n",
       "       [ 0.96894322],\n",
       "       [ 0.96894225],\n",
       "       [ 0.99994631]])"
      ]
     },
     "execution_count": 115,
     "metadata": {},
     "output_type": "execute_result"
    }
   ],
   "source": [
    "layer_1"
   ]
  },
  {
   "cell_type": "code",
   "execution_count": null,
   "metadata": {
    "collapsed": true
   },
   "outputs": [],
   "source": []
  },
  {
   "cell_type": "code",
   "execution_count": null,
   "metadata": {
    "collapsed": true
   },
   "outputs": [],
   "source": []
  }
 ],
 "metadata": {
  "kernelspec": {
   "display_name": "Python 3",
   "language": "python",
   "name": "python3"
  },
  "language_info": {
   "codemirror_mode": {
    "name": "ipython",
    "version": 3
   },
   "file_extension": ".py",
   "mimetype": "text/x-python",
   "name": "python",
   "nbconvert_exporter": "python",
   "pygments_lexer": "ipython3",
   "version": "3.6.1"
  }
 },
 "nbformat": 4,
 "nbformat_minor": 2
}
