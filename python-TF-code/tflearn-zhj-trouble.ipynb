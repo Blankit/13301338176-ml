{
 "cells": [
  {
   "cell_type": "code",
   "execution_count": 1,
   "metadata": {
    "collapsed": false
   },
   "outputs": [
    {
     "name": "stdout",
     "output_type": "stream",
     "text": [
      "Training Step: 1  | time: 0.084s\n",
      "| Adam | epoch: 001 | loss: 0.00000 - acc: 0.0000 -- iter: 1/1\n",
      "INFO:tensorflow:/tmp/tflearn_logs/model2.tfl is not in all_model_checkpoint_paths. Manually adding it.\n",
      "总用量 5216\n",
      "drwxr-xr-x 2 haijunz haijunz    4096  3月  7 06:23 1XUGIX\n",
      "drwxr-xr-x 2 haijunz haijunz    4096  3月  7 06:22 4OBAW6\n",
      "drwxr-xr-x 2 haijunz haijunz    4096  3月  7 06:18 9JPX50\n",
      "drwxr-xr-x 2 haijunz haijunz    4096  3月  7 06:18 9XAHXR\n",
      "-rw-rw-r-- 1 haijunz haijunz     113  3月  7 06:23 checkpoint\n",
      "drwxr-xr-x 2 haijunz haijunz    4096  3月  7 06:15 G93M6D\n",
      "drwxr-xr-x 2 haijunz haijunz    4096  3月  7 06:14 H8L00T\n",
      "-rw-rw-r-- 1 haijunz haijunz 1632921  3月  7 06:18 model1.tfl.data-00000-of-00001\n",
      "-rw-rw-r-- 1 haijunz haijunz     919  3月  7 06:18 model1.tfl.index\n",
      "-rw-rw-r-- 1 haijunz haijunz  124161  3月  7 06:18 model1.tfl.meta\n",
      "-rw-rw-r-- 1 haijunz haijunz 1632921  3月  7 06:23 model2.tfl.data-00000-of-00001\n",
      "-rw-rw-r-- 1 haijunz haijunz     929  3月  7 06:23 model2.tfl.index\n",
      "-rw-rw-r-- 1 haijunz haijunz  126064  3月  7 06:23 model2.tfl.meta\n",
      "drwxr-xr-x 2 haijunz haijunz    4096  3月  7 06:10 model_and_weights\n",
      "-rw-rw-r-- 1 haijunz haijunz 1632921  3月  7 06:15 model.tfl.data-00000-of-00001\n",
      "-rw-rw-r-- 1 haijunz haijunz     919  3月  7 06:15 model.tfl.index\n",
      "-rw-rw-r-- 1 haijunz haijunz  124161  3月  7 06:16 model.tfl.meta\n",
      "drwxr-xr-x 2 haijunz haijunz    4096  3月  7 06:13 SNIC4X\n",
      "drwxr-xr-x 2 haijunz haijunz    4096  3月  7 06:22 TU54UA\n",
      "drwxr-xr-x 2 haijunz haijunz    4096  3月  7 06:13 VS3J5P\n"
     ]
    }
   ],
   "source": [
    "\"\"\" An example showing how to save/restore models and retrieve weights. \"\"\"\n",
    "\n",
    "from __future__ import absolute_import, division, print_function\n",
    "import numpy as np\n",
    "import tflearn\n",
    "import tensorflow as tf\n",
    "\n",
    "import tflearn.datasets.mnist as mnist\n",
    "\n",
    "#! mkdir -p /tmp/tflearn_logs/model\n",
    "\n",
    "!  ls -l   /tmp/tflearn_logs\n",
    "input_layer = tflearn.input_data(shape=[None, 784], name='input')\n",
    "dense1 = tflearn.fully_connected(input_layer, 128, name='dense1')\n",
    "dense2 = tflearn.fully_connected(dense1, 256, name='dense2')\n",
    "softmax = tflearn.fully_connected(dense2, 10, activation='softmax')\n",
    "regression = tflearn.regression(softmax, optimizer='adam', learning_rate=0.001,\n",
    "                                loss='categorical_crossentropy')\n",
    "\n",
    "model = tflearn.DNN(regression)\n",
    "X = np.zeros(shape=(1, 784))\n",
    "Y = np.zeros(shape=(1, 10))\n",
    "model.fit(X, Y, n_epoch=1, show_metric=True, snapshot_epoch=False)\n",
    "\n",
    "ops = tf.get_collection_ref(tf.GraphKeys.TRAIN_OPS)  # type: list\n",
    "for op in ops:\n",
    "    ops.remove(op)\n",
    "\n",
    "# Manually save model\n",
    "model.save(\"/tmp/tflearn_logs/model2.tfl\")\n",
    "\n",
    "!  ls -l   /tmp/tflearn_logs/\n",
    "\n",
    "\n"
   ]
  }
 ],
 "metadata": {
  "kernelspec": {
   "display_name": "Python 2",
   "language": "python",
   "name": "python2"
  },
  "language_info": {
   "codemirror_mode": {
    "name": "ipython",
    "version": 2
   },
   "file_extension": ".py",
   "mimetype": "text/x-python",
   "name": "python",
   "nbconvert_exporter": "python",
   "pygments_lexer": "ipython2",
   "version": "2.7.6"
  }
 },
 "nbformat": 4,
 "nbformat_minor": 2
}
