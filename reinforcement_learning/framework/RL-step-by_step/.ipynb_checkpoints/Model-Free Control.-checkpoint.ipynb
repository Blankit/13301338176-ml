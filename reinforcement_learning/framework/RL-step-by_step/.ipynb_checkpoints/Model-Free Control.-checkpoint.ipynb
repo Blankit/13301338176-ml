{
 "cells": [
  {
   "cell_type": "code",
   "execution_count": 30,
   "metadata": {
    "collapsed": true
   },
   "outputs": [],
   "source": [
    "import numpy as np\n",
    "import random \n",
    "from grid_mdp import Grid_Mdp\n",
    "\n",
    "grid = Grid_Mdp()\n",
    "states = grid.states\n",
    "actions = grid.actions\n",
    "gamma = grid.gamma"
   ]
  },
  {
   "cell_type": "markdown",
   "metadata": {},
   "source": [
    "### epsilon-greedy"
   ]
  },
  {
   "cell_type": "markdown",
   "metadata": {},
   "source": [
    "$  \\varepsilon-greedy $"
   ]
  },
  {
   "cell_type": "markdown",
   "metadata": {},
   "source": [
    "$ \\varPi_{\\varepsilon-greedy}(s,a) = $"
   ]
  },
  {
   "cell_type": "code",
   "execution_count": 63,
   "metadata": {
    "collapsed": true
   },
   "outputs": [],
   "source": [
    "def epsilon_greedy(qfunc, state, epsilon):\n",
    "    \n",
    "    amax = 0\n",
    "    key = '{}_{}'.format(state, actions[0])\n",
    "    qmax = qfunc[key]\n",
    "    for i in range(len(actions)):\n",
    "        key = '{}_{}'.format(state, actions[i])\n",
    "        q = qfunc[key]\n",
    "        if qmax < q:\n",
    "            qmax = q\n",
    "            amax = i\n",
    "    \n",
    "    pro = [ epsilon/len(actions) for j in range(len(actions))]\n",
    "    pro[amax] += (1 - epsilon)\n",
    "    \n",
    "    \n",
    "    return np.random.choice(actions, p = pro)"
   ]
  },
  {
   "cell_type": "markdown",
   "metadata": {},
   "source": [
    "### Monte Carlo"
   ]
  },
  {
   "cell_type": "markdown",
   "metadata": {},
   "source": [
    "$ q(s,a) = \\frac{q(s,a) \\times n(s,a)+g}{n(s,a)+1} $    \n",
    "$ n(s,a) = n(s,a)+1 $"
   ]
  },
  {
   "cell_type": "code",
   "execution_count": 83,
   "metadata": {
    "collapsed": true
   },
   "outputs": [],
   "source": [
    "def mc(num_iters, epsilon):\n",
    "    \n",
    "    qfunc, n = dict(), dict()\n",
    "    \n",
    "    for s in states:\n",
    "        for a in actions:\n",
    "            qfunc['{}_{}'.format(s,a)] = 0.0\n",
    "            n['{}_{}'.format(s,a)] = 1e-3\n",
    "            \n",
    "    for iter1 in range(num_iters):\n",
    "      \n",
    "        s_sample = []\n",
    "        a_sample = []\n",
    "        r_sample = []\n",
    "        \n",
    "        s = states[ random.randint(0,len(states)-1) ]\n",
    "        t = False\n",
    "\n",
    "        while False ==t:\n",
    "            \n",
    "            a = epsilon_greedy(qfunc, s, epsilon)\n",
    "            t, s1, r = grid.transform(s,a)\n",
    "            \n",
    "            s_sample.append(s)\n",
    "            r_sample.append(r)\n",
    "            a_sample.append(a)\n",
    "            \n",
    "            s = s1\n",
    "\n",
    "        \n",
    "        \n",
    "        g = 0.0\n",
    "        for i in range(len(s_sample)-1, -1, -1):\n",
    "            g *= gamma\n",
    "            g += r_sample[i]\n",
    "            \n",
    "        for i in range(len(s_sample)):\n",
    "            \n",
    "            key = '{}_{}'.format(s_sample[i], a_sample[i])\n",
    "            n[key] += 1.0\n",
    "            qfunc[key] = (qfunc[key] * n[key] +g) / (n[key]+1)\n",
    "            \n",
    "            g -= r_sample[i]\n",
    "            g /= gamma\n",
    "            \n",
    "    return qfunc"
   ]
  },
  {
   "cell_type": "code",
   "execution_count": 108,
   "metadata": {
    "collapsed": false
   },
   "outputs": [
    {
     "data": {
      "text/plain": [
       "{'1_e': 0.2430446954785559,\n",
       " '1_n': -0.21119421555688866,\n",
       " '1_s': -0.7998400319936013,\n",
       " '1_w': -0.13856552276423573,\n",
       " '2_e': 0.47699181186422884,\n",
       " '2_n': 0.27889032886126874,\n",
       " '2_s': 0.24220545510299324,\n",
       " '2_w': 0.0889152605446803,\n",
       " '3_e': 0.24604555054032126,\n",
       " '3_n': 0.4686035398735664,\n",
       " '3_s': 0.9777560498655586,\n",
       " '3_w': 0.27354124718293577,\n",
       " '4_e': -0.04371578034648647,\n",
       " '4_n': 0.12191063179922283,\n",
       " '4_s': 0.19311625624958345,\n",
       " '4_w': 0.48524163582139834,\n",
       " '5_e': -0.1251262988277974,\n",
       " '5_n': -0.1696717495299066,\n",
       " '5_s': -0.8887901344295079,\n",
       " '5_w': 0.18405047759363066,\n",
       " '6_e': 0.0,\n",
       " '6_n': 0.0,\n",
       " '6_s': 0.0,\n",
       " '6_w': 0.0,\n",
       " '7_e': 0.0,\n",
       " '7_n': 0.0,\n",
       " '7_s': 0.0,\n",
       " '7_w': 0.0,\n",
       " '8_e': 0.0,\n",
       " '8_n': 0.0,\n",
       " '8_s': 0.0,\n",
       " '8_w': 0.0}"
      ]
     },
     "execution_count": 108,
     "metadata": {},
     "output_type": "execute_result"
    }
   ],
   "source": [
    "mc(100, 0.7)"
   ]
  },
  {
   "cell_type": "code",
   "execution_count": null,
   "metadata": {
    "collapsed": true
   },
   "outputs": [],
   "source": []
  },
  {
   "cell_type": "markdown",
   "metadata": {},
   "source": [
    "### SARSA"
   ]
  },
  {
   "cell_type": "markdown",
   "metadata": {},
   "source": [
    "$ q(s,a) = q(s,a) + \\alpha(r + \\gamma q(s^{'}, a^{'}) - q(s,a))$"
   ]
  },
  {
   "cell_type": "code",
   "execution_count": 92,
   "metadata": {
    "collapsed": true
   },
   "outputs": [],
   "source": [
    "def sarsa(num_iters, alpha, epsilon):\n",
    "    \n",
    "    qfunc = dict()\n",
    "    for s in states:\n",
    "        for a in actions:\n",
    "            qfunc['{}_{}'.format(s,a)]  = 0.0\n",
    "            \n",
    "    for _ in range(num_iters):\n",
    "        \n",
    "        s = states[ random.randint(0, len(states)-1) ]\n",
    "        a = actions[ random.randint(0, len(actions)-1)]\n",
    "        t = False\n",
    "        \n",
    "        while t == False:\n",
    "            \n",
    "            key = '{}_{}'.format(s, a)\n",
    "            t,s1, r = grid.transform(s,a)\n",
    "            \n",
    "            a1 = epsilon_greedy(qfunc, s1, epsilon)\n",
    "            key1 = '{}_{}'.format(s1, a1)\n",
    "            \n",
    "            qfunc[key] = qfunc[key] + alpha * ( r + gamma* qfunc[key1] - qfunc[key])\n",
    "            \n",
    "            s = s1\n",
    "            a = a1\n",
    "    \n",
    "    return qfunc"
   ]
  },
  {
   "cell_type": "code",
   "execution_count": 110,
   "metadata": {
    "collapsed": false
   },
   "outputs": [
    {
     "data": {
      "text/plain": [
       "{'1_e': 0.1277344058361311,\n",
       " '1_n': -0.12026583181688834,\n",
       " '1_s': -0.83222784,\n",
       " '1_w': -0.07253954582387098,\n",
       " '2_e': 0.5789356808936588,\n",
       " '2_n': 0.16756323053346622,\n",
       " '2_s': 0.18432342626581066,\n",
       " '2_w': -0.0811167645696,\n",
       " '3_e': 0.09506872173096774,\n",
       " '3_n': 0.44761984028649116,\n",
       " '3_s': 0.9998338465005269,\n",
       " '3_w': 0.018961708224523477,\n",
       " '4_e': 0.032245768488882776,\n",
       " '4_n': 0.04506146498795313,\n",
       " '4_s': 0.2607755258647055,\n",
       " '4_w': 0.7146935272470093,\n",
       " '5_e': 0.08656918069164049,\n",
       " '5_n': -0.0723208168205659,\n",
       " '5_s': -0.8926258176,\n",
       " '5_w': 0.29509967573980517,\n",
       " '6_e': 0.0,\n",
       " '6_n': 0.0,\n",
       " '6_s': 0.0,\n",
       " '6_w': 0.0,\n",
       " '7_e': 0.0,\n",
       " '7_n': 0.0,\n",
       " '7_s': 0.0,\n",
       " '7_w': 0.0,\n",
       " '8_e': 0.0,\n",
       " '8_n': 0.0,\n",
       " '8_s': 0.0,\n",
       " '8_w': 0.0}"
      ]
     },
     "execution_count": 110,
     "metadata": {},
     "output_type": "execute_result"
    }
   ],
   "source": [
    "sarsa(100, 0.2, 0.7)"
   ]
  },
  {
   "cell_type": "markdown",
   "metadata": {},
   "source": [
    "### Q-Learning"
   ]
  },
  {
   "cell_type": "markdown",
   "metadata": {},
   "source": [
    "$ q(s,a) = q(s,a) + \\alpha(r + \\gamma max_{a^{'}}q(s^{'}, a^{'}) - q(s,a))$"
   ]
  },
  {
   "cell_type": "code",
   "execution_count": 100,
   "metadata": {
    "collapsed": true
   },
   "outputs": [],
   "source": [
    "def qlearning(num_iters, alpha, epsilon):\n",
    "        \n",
    "    qfunc = dict()\n",
    "    for s in states:\n",
    "        for a in actions:\n",
    "            qfunc['{}_{}'.format(s,a)]  = 0.0\n",
    "    \n",
    "    for _ in range(num_iters):\n",
    "        \n",
    "        s = states[ random.randint(0, len(states)-1)]\n",
    "        a = actions[ random.randint(0, len(actions)-1)]\n",
    "        t = False\n",
    "        \n",
    "        while False == t:\n",
    "            \n",
    "            key = '{}_{}'.format(s,a)\n",
    "            t,s1,r = grid.transform(s,a)\n",
    "            \n",
    "            key1 = ''\n",
    "            qmax = -1.0\n",
    "            \n",
    "            for a_tmp in actions:\n",
    "                \n",
    "                key_tmp = '{}_{}'.format(s1, a_tmp)\n",
    "                if qmax < qfunc[ key_tmp]:\n",
    "                    qmax =  qfunc[ key_tmp]\n",
    "                    key1 = key_tmp\n",
    "                \n",
    "                \n",
    "            qfunc[key] = qfunc[key] + alpha * (r+ gamma* qfunc[key1] - qfunc[key])\n",
    "            \n",
    "            s = s1\n",
    "            a = epsilon_greedy(qfunc, s1, epsilon)\n",
    "            \n",
    "    return qfunc"
   ]
  },
  {
   "cell_type": "code",
   "execution_count": 111,
   "metadata": {
    "collapsed": false
   },
   "outputs": [
    {
     "data": {
      "text/plain": [
       "{'1_e': 0.5976707727283048,\n",
       " '1_n': 0.20905893932053274,\n",
       " '1_s': -0.9141006540800001,\n",
       " '1_w': 0.3570747585630884,\n",
       " '2_e': 0.7971046677749101,\n",
       " '2_n': 0.49745329138468186,\n",
       " '2_s': 0.5311845882989159,\n",
       " '2_w': 0.3880783487935838,\n",
       " '3_e': 0.6106034390900863,\n",
       " '3_n': 0.764062672379765,\n",
       " '3_s': 0.9997403851570732,\n",
       " '3_w': 0.5990235023868303,\n",
       " '4_e': 0.38318574583296433,\n",
       " '4_n': 0.5305703324591649,\n",
       " '4_s': 0.5557555166374503,\n",
       " '4_w': 0.796008537146206,\n",
       " '5_e': 0.29245867977921114,\n",
       " '5_n': 0.28837046061858734,\n",
       " '5_s': -0.9141006540800001,\n",
       " '5_w': 0.5776525743039942,\n",
       " '6_e': 0.0,\n",
       " '6_n': 0.0,\n",
       " '6_s': 0.0,\n",
       " '6_w': 0.0,\n",
       " '7_e': 0.0,\n",
       " '7_n': 0.0,\n",
       " '7_s': 0.0,\n",
       " '7_w': 0.0,\n",
       " '8_e': 0.0,\n",
       " '8_n': 0.0,\n",
       " '8_s': 0.0,\n",
       " '8_w': 0.0}"
      ]
     },
     "execution_count": 111,
     "metadata": {},
     "output_type": "execute_result"
    }
   ],
   "source": [
    "qlearning(100, 0.2, 0.7)"
   ]
  },
  {
   "cell_type": "code",
   "execution_count": null,
   "metadata": {
    "collapsed": true
   },
   "outputs": [],
   "source": []
  }
 ],
 "metadata": {
  "kernelspec": {
   "display_name": "Python [conda root]",
   "language": "python",
   "name": "conda-root-py"
  },
  "language_info": {
   "codemirror_mode": {
    "name": "ipython",
    "version": 2
   },
   "file_extension": ".py",
   "mimetype": "text/x-python",
   "name": "python",
   "nbconvert_exporter": "python",
   "pygments_lexer": "ipython2",
   "version": "2.7.12"
  }
 },
 "nbformat": 4,
 "nbformat_minor": 1
}
