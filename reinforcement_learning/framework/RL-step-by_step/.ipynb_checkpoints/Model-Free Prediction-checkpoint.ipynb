{
 "cells": [
  {
   "cell_type": "code",
   "execution_count": 1,
   "metadata": {
    "collapsed": true
   },
   "outputs": [],
   "source": [
    "import numpy as np\n",
    "import random\n",
    "from grid_mdp import Grid_Mdp"
   ]
  },
  {
   "cell_type": "code",
   "execution_count": 2,
   "metadata": {
    "collapsed": true
   },
   "outputs": [],
   "source": [
    "grid = Grid_Mdp()\n",
    "states = grid.states\n",
    "actions = grid.actions\n",
    "gamma = grid.gamma\n",
    "\n",
    "s, a, r = grid.gen_randompi_sample(100)"
   ]
  },
  {
   "cell_type": "markdown",
   "metadata": {},
   "source": [
    "### Monte Carlo"
   ]
  },
  {
   "cell_type": "code",
   "execution_count": 22,
   "metadata": {
    "collapsed": true
   },
   "outputs": [],
   "source": [
    "def mc(gamma, state_sample, action_sample, reward_sample):\n",
    "    \n",
    "#     vfunc = dict()\n",
    "#     nfunc = dict()\n",
    "#     for s in states:\n",
    "#         vfunc[s] = 0.0\n",
    "#         nfunc[s] = 0.0\n",
    "    \n",
    "    vfunc = dict(zip(states, [0.0]*len(states)))\n",
    "    nfunc = dict(zip(states, [0.0]*len(states)))\n",
    "        \n",
    "    for iter1 in range(len(state_sample)):\n",
    "        \n",
    "        G = 0.0\n",
    "        for step in range(len(state_sample[iter1])-1, -1, -1):\n",
    "            G *= gamma\n",
    "            G += reward_sample[iter1][step]\n",
    "        \n",
    "        for step in range(len(state_sample[iter1])):\n",
    "            s = state_sample[iter1][step]\n",
    "            vfunc[s] += G\n",
    "            nfunc[s] += 1.0\n",
    "            G -= reward_sample[iter1][step]\n",
    "            G /= gamma\n",
    "\n",
    "    for s in states:\n",
    "        if nfunc[s]>1e-5:\n",
    "            vfunc[s] /= nfunc[s]\n",
    "            \n",
    "    print [vfunc[i] for i in range(1,7)]"
   ]
  },
  {
   "cell_type": "code",
   "execution_count": 24,
   "metadata": {
    "collapsed": false
   },
   "outputs": [
    {
     "name": "stdout",
     "output_type": "stream",
     "text": [
      "[-0.4056382613556389, -0.037546650167081384, 0.2819653040746914, 0.02611952306734061, -0.2234492737000826, 0.0]\n"
     ]
    }
   ],
   "source": [
    "mc(0.6, s,a,r)"
   ]
  },
  {
   "cell_type": "markdown",
   "metadata": {},
   "source": [
    "### Temporal Difference"
   ]
  },
  {
   "cell_type": "code",
   "execution_count": 25,
   "metadata": {
    "collapsed": true
   },
   "outputs": [],
   "source": [
    "def td(alpha, gamma, state_sample, action_sample, reward_sample):\n",
    "    \n",
    "    vfunc = dict()\n",
    "    for s in states:\n",
    "        vfunc[s] = random.random()\n",
    "        \n",
    "    for iter1 in range(len(state_sample)):\n",
    "        for step in range(len(state_sample[iter1])):\n",
    "            \n",
    "            s = state_sample[iter1][step]\n",
    "            r = reward_sample[iter1][step]\n",
    "            \n",
    "            if len(state_sample[iter1])-1 > step:\n",
    "                s1 = state_sample[iter1][step+1]\n",
    "                next_v = vfunc[s1]\n",
    "            else:\n",
    "                next_v = 0.0\n",
    "                \n",
    "            vfunc[s] = vfunc[s] + alpha * ( r + gamma*next_v - vfunc[s])\n",
    "            \n",
    "    \n",
    "    print [vfunc[i] for i in range(1,7)]"
   ]
  },
  {
   "cell_type": "code",
   "execution_count": 28,
   "metadata": {
    "collapsed": false
   },
   "outputs": [
    {
     "name": "stdout",
     "output_type": "stream",
     "text": [
      "[-0.6189637971626558, -0.22037229574996403, 0.8784733175455507, 0.3435746353071919, -0.1735222703600135, 0.0008005873745747176]\n"
     ]
    }
   ],
   "source": [
    "td(0.5, 0.8, s,a,r)"
   ]
  },
  {
   "cell_type": "code",
   "execution_count": null,
   "metadata": {
    "collapsed": true
   },
   "outputs": [],
   "source": []
  },
  {
   "cell_type": "code",
   "execution_count": null,
   "metadata": {
    "collapsed": true
   },
   "outputs": [],
   "source": []
  },
  {
   "cell_type": "code",
   "execution_count": 3,
   "metadata": {
    "collapsed": true
   },
   "outputs": [],
   "source": [
    "vfunc = dict(zip(states, [0.0]*len(states)))"
   ]
  },
  {
   "cell_type": "code",
   "execution_count": 4,
   "metadata": {
    "collapsed": false
   },
   "outputs": [
    {
     "data": {
      "text/plain": [
       "{1: 0.0, 2: 0.0, 3: 0.0, 4: 0.0, 5: 0.0, 6: 0.0, 7: 0.0, 8: 0.0}"
      ]
     },
     "execution_count": 4,
     "metadata": {},
     "output_type": "execute_result"
    }
   ],
   "source": [
    "vfunc"
   ]
  },
  {
   "cell_type": "code",
   "execution_count": null,
   "metadata": {
    "collapsed": true
   },
   "outputs": [],
   "source": []
  }
 ],
 "metadata": {
  "anaconda-cloud": {},
  "kernelspec": {
   "display_name": "Python [default]",
   "language": "python",
   "name": "python2"
  },
  "language_info": {
   "codemirror_mode": {
    "name": "ipython",
    "version": 2
   },
   "file_extension": ".py",
   "mimetype": "text/x-python",
   "name": "python",
   "nbconvert_exporter": "python",
   "pygments_lexer": "ipython2",
   "version": "2.7.12"
  }
 },
 "nbformat": 4,
 "nbformat_minor": 1
}
