{
 "cells": [
  {
   "cell_type": "code",
   "execution_count": 1,
   "metadata": {
    "collapsed": false
   },
   "outputs": [],
   "source": [
    "import numpy as np\n",
    "import random\n",
    "import grid_mdp"
   ]
  },
  {
   "cell_type": "code",
   "execution_count": 2,
   "metadata": {
    "collapsed": true
   },
   "outputs": [],
   "source": [
    "def update(policy, f, a, tvalue, alpha):\n",
    "    \n",
    "    pvalue = policy.qfunc(f,a)\n",
    "    error = pvalue - tvalue\n",
    "    fea = policy.get_fea_vec(f,a)\n",
    "    policy.theta -= alpha* error * fea"
   ]
  },
  {
   "cell_type": "code",
   "execution_count": 3,
   "metadata": {
    "collapsed": true
   },
   "outputs": [],
   "source": [
    "def qlearning(grid, policy, num_iters, alpha):\n",
    "    \n",
    "    actions = grid.actions\n",
    "    gamma = grid.gamma\n",
    "    \n",
    "    policy.theta += 0.1\n",
    "    # policy.alpha = alpha\n",
    "    # for i in range(len(policy.theta)):\n",
    "    #     policy.theta[i] = random.random()*0.1\n",
    "        \n",
    "    for _ in range(num_iters):\n",
    "        \n",
    "        f = grid.start()\n",
    "        a = actions[ random.randint(0, len(actions)-1)]\n",
    "        t = False\n",
    "        \n",
    "        while False == t:\n",
    "            \n",
    "            t, f1, r = grid.receive(a)\n",
    "  \n",
    "            qmax = -1.0\n",
    "            \n",
    "            for ax in actions:\n",
    "                pvalue = policy.qfunc(f1, ax)\n",
    "                if qmax < pvalue:\n",
    "                    qmax = pvalue\n",
    "            \n",
    "            # update(policy, f, a, r+gamma*qmax, alpha)\n",
    "            policy.update(f,a, r+gamma*qmax, alpha)\n",
    "            \n",
    "            f = f1\n",
    "            a = policy.epsilon_greedy(f)\n",
    "    \n",
    "    return policy"
   ]
  },
  {
   "cell_type": "code",
   "execution_count": null,
   "metadata": {
    "collapsed": true
   },
   "outputs": [],
   "source": []
  },
  {
   "cell_type": "code",
   "execution_count": 4,
   "metadata": {
    "collapsed": true
   },
   "outputs": [],
   "source": [
    "grid = grid_mdp.Grid_Mdp()\n",
    "policy = grid_mdp.Policy(grid, epsilon=0.2)"
   ]
  },
  {
   "cell_type": "code",
   "execution_count": 5,
   "metadata": {
    "collapsed": false
   },
   "outputs": [],
   "source": [
    "pp = qlearning(grid, policy, 2000, alpha=1e-2)"
   ]
  },
  {
   "cell_type": "code",
   "execution_count": 8,
   "metadata": {
    "collapsed": false
   },
   "outputs": [
    {
     "data": {
      "text/plain": [
       "1.0799999794158301"
      ]
     },
     "execution_count": 8,
     "metadata": {},
     "output_type": "execute_result"
    }
   ],
   "source": [
    "pp.qfunc(np.array([0,0,1,0,0,0,0,0]), 's')"
   ]
  },
  {
   "cell_type": "code",
   "execution_count": 7,
   "metadata": {
    "collapsed": false
   },
   "outputs": [
    {
     "data": {
      "text/plain": [
       "array([ 0.31142804,  0.5019095 ,  0.76401206,  0.52079173,  0.32643692,\n",
       "        0.1       ,  0.1       ,  0.1       ,  0.66885788,  0.86379772,\n",
       "        0.55596974,  0.35806124,  0.34179206,  0.1       ,  0.1       ,\n",
       "        0.1       , -0.62370174,  0.51147541,  1.07999998,  0.46667478,\n",
       "       -0.60843179,  0.1       ,  0.1       ,  0.1       ,  0.28944301,\n",
       "        0.35437724,  0.59232203,  0.86373919,  0.67348753,  0.1       ,\n",
       "        0.1       ,  0.1       ])"
      ]
     },
     "execution_count": 7,
     "metadata": {},
     "output_type": "execute_result"
    }
   ],
   "source": [
    "pp.theta"
   ]
  },
  {
   "cell_type": "code",
   "execution_count": null,
   "metadata": {
    "collapsed": true
   },
   "outputs": [],
   "source": []
  }
 ],
 "metadata": {
  "kernelspec": {
   "display_name": "Python [conda root]",
   "language": "python",
   "name": "conda-root-py"
  },
  "language_info": {
   "codemirror_mode": {
    "name": "ipython",
    "version": 2
   },
   "file_extension": ".py",
   "mimetype": "text/x-python",
   "name": "python",
   "nbconvert_exporter": "python",
   "pygments_lexer": "ipython2",
   "version": "2.7.12"
  }
 },
 "nbformat": 4,
 "nbformat_minor": 1
}
