{
 "cells": [
  {
   "cell_type": "code",
   "execution_count": 1,
   "metadata": {
    "collapsed": true
   },
   "outputs": [],
   "source": [
    "import numpy as np\n",
    "import random"
   ]
  },
  {
   "cell_type": "code",
   "execution_count": 2,
   "metadata": {
    "collapsed": true
   },
   "outputs": [],
   "source": [
    "import grid_mdp"
   ]
  },
  {
   "cell_type": "code",
   "execution_count": 3,
   "metadata": {
    "collapsed": true
   },
   "outputs": [],
   "source": [
    "def update_valuepolicy(valuepolicy, f, a, tvalue, alpha):\n",
    "    \n",
    "    pvalue = valuepolicy.qfunc(f,a)\n",
    "    error = pvalue - tvalue\n",
    "    fea = valuepolicy.get_fea_vec(f, a)\n",
    "    valuepolicy.theta -= alpha * error * fea"
   ]
  },
  {
   "cell_type": "code",
   "execution_count": 4,
   "metadata": {
    "collapsed": true
   },
   "outputs": [],
   "source": [
    "def update_softmaxpolicy(softmaxpolicy, f, a, qvalue, alpha):\n",
    "    \n",
    "    fea = softmaxpolicy.get_fea_vec(f,a)\n",
    "    prob = softmaxpolicy.pi(f)\n",
    "    \n",
    "    delta_logj = fea\n",
    "    \n",
    "    for i, ax in enumerate(softmaxpolicy.actions):\n",
    "        feax = softmaxpolicy.get_fea_vec(f, ax)\n",
    "        delta_logj -= feax * prob[i]\n",
    "        \n",
    "    delta_logj *= -1.0\n",
    "    \n",
    "    softmaxpolicy.theta -= alpha *delta_logj * qvalue"
   ]
  },
  {
   "cell_type": "code",
   "execution_count": 5,
   "metadata": {
    "collapsed": true
   },
   "outputs": [],
   "source": [
    "def mc(grid, softmaxpolicy, num_iters, alpha):\n",
    "    \n",
    "    actions = grid.actions\n",
    "    gamma = grid.gamma\n",
    "    \n",
    "    \n",
    "    for _ in range(num_iters):\n",
    "        \n",
    "        f_sample = []\n",
    "        a_sample = []\n",
    "        r_sample = []\n",
    "        \n",
    "        f = grid.start()\n",
    "        t = False\n",
    "        while t == False:\n",
    "            \n",
    "            a = softmaxpolicy.take_action(f)\n",
    "            t, f1, r = grid.receive(a)\n",
    "            \n",
    "            f_sample.append(f)\n",
    "            r_sample.append(r)\n",
    "            a_sample.append(a)\n",
    "            \n",
    "            f = f1\n",
    "            \n",
    "        g = 0.0\n",
    "        for i in range(len(f_sample)-1, -1, -1):\n",
    "            \n",
    "            g *= gamma\n",
    "            g += r_sample[i]\n",
    "            \n",
    "        \n",
    "        for i in range( len(f_sample)):\n",
    "            \n",
    "            update_softmaxpolicy(softmaxpolicy, f_sample[i], a_sample[i], g, alpha)\n",
    "            \n",
    "            g -= r_sample[i]\n",
    "            g /= gamma\n",
    "            \n",
    "        return softmaxpolicy"
   ]
  },
  {
   "cell_type": "code",
   "execution_count": 6,
   "metadata": {
    "collapsed": true
   },
   "outputs": [],
   "source": [
    "grid = grid_mdp.Grid_Mdp()\n",
    "softmaxpolicy = grid_mdp.SoftmaxPolicy(grid, epsilon=0.01)"
   ]
  },
  {
   "cell_type": "code",
   "execution_count": 7,
   "metadata": {
    "collapsed": false
   },
   "outputs": [],
   "source": [
    "rep = mc(grid, softmaxpolicy, 10000, 0.01)"
   ]
  },
  {
   "cell_type": "code",
   "execution_count": 8,
   "metadata": {
    "collapsed": false
   },
   "outputs": [
    {
     "data": {
      "text/plain": [
       "[0.25, 0.25, 0.25, 0.25]"
      ]
     },
     "execution_count": 8,
     "metadata": {},
     "output_type": "execute_result"
    }
   ],
   "source": [
    "rep.pi([0,0,0,0,1,0,0,0])"
   ]
  },
  {
   "cell_type": "code",
   "execution_count": null,
   "metadata": {
    "collapsed": false
   },
   "outputs": [],
   "source": []
  },
  {
   "cell_type": "code",
   "execution_count": null,
   "metadata": {
    "collapsed": true
   },
   "outputs": [],
   "source": []
  },
  {
   "cell_type": "code",
   "execution_count": 16,
   "metadata": {
    "collapsed": true
   },
   "outputs": [],
   "source": [
    "def sarsa(grid, policy, value, num_iter1, alpha):\n",
    "    \n",
    "    actions = grid.actions\n",
    "    gamma   = grid.gamma\n",
    "    \n",
    "    for i in xrange(len(policy.theta)):\n",
    "        \n",
    "        value.theta[i]  = 0.1\n",
    "        policy.theta[i] = 0.0\n",
    "\n",
    "    for iter1 in xrange(num_iter1):\n",
    "        \n",
    "        f = grid.start();\n",
    "        a = actions[int(random.random() * len(actions))]\n",
    "        t = False\n",
    "\n",
    "        while False == t:\n",
    "            \n",
    "            t,f1,r      = grid.receive(a)\n",
    "            a1          = policy.take_action(f1)\n",
    "            \n",
    "            update_valuepolicy(value, f, a,  r + gamma * value.qfunc(f1, a1), alpha)\n",
    "            update_softmaxpolicy(policy, f, a, value.qfunc(f,a), alpha);\n",
    "\n",
    "            f           = f1\n",
    "            a           = a1\n",
    "\n",
    "    return policy"
   ]
  },
  {
   "cell_type": "code",
   "execution_count": 17,
   "metadata": {
    "collapsed": false
   },
   "outputs": [],
   "source": [
    "grid            = grid_mdp.Grid_Mdp()\n",
    "softmaxpolicy   = grid_mdp.SoftmaxPolicy(grid, epsilon = 0.01)\n",
    "valuepolicy     = grid_mdp.ValuePolicy(grid, epsilon = 0.01)"
   ]
  },
  {
   "cell_type": "code",
   "execution_count": 19,
   "metadata": {
    "collapsed": false
   },
   "outputs": [],
   "source": [
    "softmaxpolicy  = sarsa(grid, softmaxpolicy, valuepolicy, 2000, 0.01)"
   ]
  },
  {
   "cell_type": "code",
   "execution_count": 23,
   "metadata": {
    "collapsed": false
   },
   "outputs": [
    {
     "data": {
      "text/plain": [
       "[0.049158300478542687,\n",
       " 0.03502352101574302,\n",
       " 0.88173130885287632,\n",
       " 0.034086869652838074]"
      ]
     },
     "execution_count": 23,
     "metadata": {},
     "output_type": "execute_result"
    }
   ],
   "source": [
    "softmaxpolicy.pi([0,0,1,0,0,0,0,0])"
   ]
  },
  {
   "cell_type": "code",
   "execution_count": null,
   "metadata": {
    "collapsed": true
   },
   "outputs": [],
   "source": []
  }
 ],
 "metadata": {
  "anaconda-cloud": {},
  "kernelspec": {
   "display_name": "Python [default]",
   "language": "python",
   "name": "python2"
  },
  "language_info": {
   "codemirror_mode": {
    "name": "ipython",
    "version": 2
   },
   "file_extension": ".py",
   "mimetype": "text/x-python",
   "name": "python",
   "nbconvert_exporter": "python",
   "pygments_lexer": "ipython2",
   "version": "2.7.12"
  }
 },
 "nbformat": 4,
 "nbformat_minor": 1
}
