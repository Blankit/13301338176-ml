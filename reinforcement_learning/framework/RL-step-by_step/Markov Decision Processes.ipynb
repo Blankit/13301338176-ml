{
 "cells": [
  {
   "cell_type": "code",
   "execution_count": 4,
   "metadata": {
    "collapsed": true
   },
   "outputs": [],
   "source": [
    "import numpy as np\n",
    "import random\n",
    "random.seed(0)"
   ]
  },
  {
   "cell_type": "code",
   "execution_count": 11,
   "metadata": {
    "collapsed": true
   },
   "outputs": [],
   "source": [
    "class MDP:\n",
    "    \n",
    "    def __init__(self):\n",
    "        \n",
    "        self.states = [1,2,3,4,5,6,7,8]\n",
    "        \n",
    "        self.terminal_states = dict()\n",
    "        self.terminal_states[6] = 1\n",
    "        self.terminal_states[7] = 1\n",
    "        self.terminal_states[8] = 1\n",
    "        \n",
    "        self.actions = ['n', 'e', 's', 'w']\n",
    "        \n",
    "        self.rewards = dict()\n",
    "        self.rewards['1_s'] = -1.0\n",
    "        self.rewards['3_s'] = 1.0\n",
    "        self.rewards['5_s'] = -1.0\n",
    "        \n",
    "        self.t = dict()\n",
    "        self.t['1_s'] = 6\n",
    "        self.t['1_e'] = 2\n",
    "        self.t['2_w'] = 1\n",
    "        self.t['2_e'] = 3\n",
    "        self.t['3_s'] = 7\n",
    "        self.t['3_w'] = 2\n",
    "        self.t['3_e'] = 4\n",
    "        self.t['4_w'] = 3\n",
    "        self.t['4_e'] = 5\n",
    "        self.t['5_s'] = 8\n",
    "        self.t['5_w'] = 4\n",
    "        \n",
    "        self.gamma = 0.8\n",
    "        \n",
    "    def transform(self, state, action):\n",
    "        \n",
    "        if state in self.terminal_states:\n",
    "            return True, state, 0\n",
    "        \n",
    "        key = '{}_{}'.format(state, action)\n",
    "        \n",
    "        if key in self.t.keys():\n",
    "            next_state = self.t[key]\n",
    "        else:\n",
    "            next_state = state\n",
    "            \n",
    "        is_terminal = False\n",
    "        if next_state in self.terminal_states.keys():\n",
    "            is_terminal = True\n",
    "        \n",
    "        if key not in self.rewards.keys():\n",
    "            r = 0.0\n",
    "        else:\n",
    "            r = self.rewards[key]\n",
    "            \n",
    "        return is_terminal, next_state, r"
   ]
  },
  {
   "cell_type": "code",
   "execution_count": 12,
   "metadata": {
    "collapsed": true
   },
   "outputs": [],
   "source": [
    "def random_pi():\n",
    "    actions = ['n', 'w', 'e', 's']\n",
    "    r = int(random.random()*4)\n",
    "    return actions[r]"
   ]
  },
  {
   "cell_type": "code",
   "execution_count": 64,
   "metadata": {
    "collapsed": false
   },
   "outputs": [],
   "source": [
    "def compute_random_pi_state_value():\n",
    "    \n",
    "    value = [0.0 for r in range(9)]\n",
    "    num = 10000\n",
    "    \n",
    "    for k in range(1, num):\n",
    "        for i in range(1,6):\n",
    "            \n",
    "            mdp = MDP()\n",
    "            s = i\n",
    "            is_terminal = False\n",
    "            gamma = 1.0\n",
    "            v = 0.0\n",
    "            \n",
    "            while False == is_terminal:\n",
    "                a = random_pi()\n",
    "                is_terminal, s, r = mdp.transform(s, a)\n",
    "                v += gamma*r\n",
    "                gamma *= 0.5\n",
    "                \n",
    "#             value[i] = (value[i]*(k-1) +v)/k\n",
    "            value[i] += v\n",
    "        \n",
    "#     print value\n",
    "    print [i/k for i in value][1:-3]"
   ]
  },
  {
   "cell_type": "code",
   "execution_count": 65,
   "metadata": {
    "collapsed": false
   },
   "outputs": [
    {
     "name": "stdout",
     "output_type": "stream",
     "text": [
      "[-0.3394371614446666, -0.01228487538436094, 0.28274287779097057, -0.008091038756461267, -0.3360884527952411]\n"
     ]
    }
   ],
   "source": [
    "compute_random_pi_state_value()"
   ]
  },
  {
   "cell_type": "markdown",
   "metadata": {},
   "source": [
    "![](http://www.algorithmdog.com/wp-content/uploads/2016/04/mdp-value.png)"
   ]
  },
  {
   "cell_type": "markdown",
   "metadata": {},
   "source": [
    "![](http://www.algorithmdog.com/wp-content/uploads/2016/04/mdp.png)"
   ]
  },
  {
   "cell_type": "code",
   "execution_count": null,
   "metadata": {
    "collapsed": true
   },
   "outputs": [],
   "source": []
  }
 ],
 "metadata": {
  "anaconda-cloud": {},
  "kernelspec": {
   "display_name": "Python [default]",
   "language": "python",
   "name": "python2"
  },
  "language_info": {
   "codemirror_mode": {
    "name": "ipython",
    "version": 2
   },
   "file_extension": ".py",
   "mimetype": "text/x-python",
   "name": "python",
   "nbconvert_exporter": "python",
   "pygments_lexer": "ipython2",
   "version": "2.7.12"
  }
 },
 "nbformat": 4,
 "nbformat_minor": 1
}
