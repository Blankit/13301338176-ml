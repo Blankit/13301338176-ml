{
 "cells": [
  {
   "cell_type": "markdown",
   "metadata": {},
   "source": [
    "# model-based"
   ]
  },
  {
   "cell_type": "markdown",
   "metadata": {},
   "source": [
    "### Policy Iteration\n",
    "- policy evaluation\n",
    "- policy improvement\n"
   ]
  },
  {
   "cell_type": "code",
   "execution_count": 1,
   "metadata": {
    "collapsed": true
   },
   "outputs": [],
   "source": [
    "class Grid_MDP:\n",
    "    \n",
    "    def __init__(self):\n",
    "        \n",
    "        self.states = [1,2,3,4,5,6,7,8]\n",
    "        \n",
    "        self.terminal_states = dict()\n",
    "        self.terminal_states[6] = 1\n",
    "        self.terminal_states[7] = 1\n",
    "        self.terminal_states[8] = 1\n",
    "        \n",
    "        self.actions = ['n', 'e', 's', 'w']\n",
    "        \n",
    "        self.rewards = dict()\n",
    "        self.rewards['1_s'] = -1.0\n",
    "        self.rewards['3_s'] = 1.0\n",
    "        self.rewards['5_s'] = -1.0\n",
    "        \n",
    "        self.t = dict()\n",
    "        self.t['1_s'] = 6\n",
    "        self.t['1_e'] = 2\n",
    "        self.t['2_w'] = 1\n",
    "        self.t['2_e'] = 3\n",
    "        self.t['3_s'] = 7\n",
    "        self.t['3_w'] = 2\n",
    "        self.t['3_e'] = 4\n",
    "        self.t['4_w'] = 3\n",
    "        self.t['4_e'] = 5\n",
    "        self.t['5_s'] = 8\n",
    "        self.t['5_w'] = 4\n",
    "        \n",
    "        self.gamma = 0.8\n",
    "        \n",
    "    def transform(self, state, action):\n",
    "        \n",
    "        if state in self.terminal_states:\n",
    "            return True, state, 0\n",
    "        \n",
    "        key = '{}_{}'.format(state, action)\n",
    "        \n",
    "        if key in self.t.keys():\n",
    "            next_state = self.t[key]\n",
    "        else:\n",
    "            next_state = state\n",
    "            \n",
    "        is_terminal = False\n",
    "        if next_state in self.terminal_states.keys():\n",
    "            is_terminal = True\n",
    "        \n",
    "        if key not in self.rewards.keys():\n",
    "            r = 0.0\n",
    "        else:\n",
    "            r = self.rewards[key]\n",
    "            \n",
    "        return is_terminal, next_state, r"
   ]
  },
  {
   "cell_type": "code",
   "execution_count": 60,
   "metadata": {
    "collapsed": false
   },
   "outputs": [],
   "source": [
    "class policy_value:\n",
    "    \n",
    "    def __init__(self, grid_mdp):\n",
    "        \n",
    "        self.grid_mdp = grid_mdp\n",
    "        \n",
    "        self.v = [0.0] * (len(self.grid_mdp.states)+1)\n",
    "        \n",
    "        self.pi = dict()\n",
    "        for state in grid_mdp.states:\n",
    "            if state in grid_mdp.terminal_states:\n",
    "                continue\n",
    "            self.pi[state] = grid_mdp.actions[0]\n",
    "            \n",
    "        \n",
    "    def policy_improve(self):\n",
    "        \n",
    "        for state in self.grid_mdp.states:\n",
    "            \n",
    "            if state in self.grid_mdp.terminal_states.keys(): \n",
    "                continue\n",
    "                \n",
    "            a1 = self.grid_mdp.actions[0]\n",
    "            t, s, r = self.grid_mdp.transform(state, a1)\n",
    "            v1 = r+ self.grid_mdp.gamma * self.v[s]\n",
    "            \n",
    "            for action in self.grid_mdp.actions:\n",
    "                \n",
    "                \n",
    "                t,s,r = self.grid_mdp.transform(state, action)\n",
    "                \n",
    "                v_tmp = r + self.grid_mdp.gamma* self.v[s]\n",
    "                \n",
    "                if v1< v_tmp:\n",
    "                    a1 = action\n",
    "                    v1 = v_tmp\n",
    "            \n",
    "            self.pi[state] = a1\n",
    "            \n",
    "    def policy_evaluate(self):\n",
    "        \n",
    "#         for i in range(1000):\n",
    "            \n",
    "        delta = 0.0\n",
    "\n",
    "        for state in self.grid_mdp.states:\n",
    "\n",
    "            if state in self.grid_mdp.terminal_states:\n",
    "                continue\n",
    "\n",
    "            action = self.pi[state]\n",
    "            t,s,r = self.grid_mdp.transform(state, action)\n",
    "            new_v = r+ self.grid_mdp.gamma* self.v[s]\n",
    "            delta += abs(self.v[state] - new_v)\n",
    "            self.v[state] = new_v\n",
    "\n",
    "#         if delta< 1e-6:\n",
    "#             break\n",
    "                \n",
    "            \n",
    "    def policy_iterate(self):\n",
    "        \n",
    "        for i in range(1000):\n",
    "            self.policy_evaluate()\n",
    "            self.policy_improve()\n",
    "            \n",
    "    \n",
    "    def value_iteration(self):\n",
    "        \n",
    "        for i in range(100):\n",
    "            \n",
    "            delta = 0.0\n",
    "            for state in self.grid_mdp.states:\n",
    "                if state in self.grid_mdp.terminal_states: continue\n",
    "                \n",
    "                a1 = self.grid_mdp.actions[0]\n",
    "                t,s,r = self.grid_mdp.transform(state, a1)\n",
    "                v1 = r + self.grid_mdp.gamma * self.v[s]\n",
    "            \n",
    "                for action in self.grid_mdp.actions:\n",
    "                    t,s,r = self.grid_mdp.transform(state, action)\n",
    "                    v_tmp = self.grid_mdp.gamma * self.v[s] + r\n",
    "                    if v1 < v_tmp:\n",
    "                        a1 = action\n",
    "                        v1 = v_tmp\n",
    "                        \n",
    "                delta += abs(v1 - self.v[state])\n",
    "                \n",
    "                self.pi[state] = a1\n",
    "                self.v[state] = v1"
   ]
  },
  {
   "cell_type": "code",
   "execution_count": 53,
   "metadata": {
    "collapsed": true
   },
   "outputs": [],
   "source": [
    "grid_mdp_a = Grid_MDP()"
   ]
  },
  {
   "cell_type": "code",
   "execution_count": 54,
   "metadata": {
    "collapsed": false
   },
   "outputs": [],
   "source": [
    "policy_value_a = policy_value(grid_mdp_a)"
   ]
  },
  {
   "cell_type": "code",
   "execution_count": 55,
   "metadata": {
    "collapsed": false
   },
   "outputs": [],
   "source": [
    "policy_value_a.policy_iterate()"
   ]
  },
  {
   "cell_type": "code",
   "execution_count": 56,
   "metadata": {
    "collapsed": false
   },
   "outputs": [
    {
     "name": "stdout",
     "output_type": "stream",
     "text": [
      "1 0.64\n",
      "2 0.8\n",
      "3 1.0\n",
      "4 0.8\n",
      "5 0.64\n"
     ]
    }
   ],
   "source": [
    "for i in range(1, 6):\n",
    "    print i, policy_value_a.v[i]"
   ]
  },
  {
   "cell_type": "code",
   "execution_count": 57,
   "metadata": {
    "collapsed": false
   },
   "outputs": [
    {
     "name": "stdout",
     "output_type": "stream",
     "text": [
      "1 e\n",
      "2 e\n",
      "3 s\n",
      "4 w\n",
      "5 w\n"
     ]
    }
   ],
   "source": [
    "for j in range(1,6):\n",
    "    print j, policy_value_a.pi[j]"
   ]
  },
  {
   "cell_type": "markdown",
   "metadata": {},
   "source": [
    "![](../result.png)"
   ]
  },
  {
   "cell_type": "markdown",
   "metadata": {},
   "source": [
    "### value iteration"
   ]
  },
  {
   "cell_type": "code",
   "execution_count": 61,
   "metadata": {
    "collapsed": true
   },
   "outputs": [],
   "source": [
    "grid_mdp_b = Grid_MDP()\n",
    "policy_value_b = policy_value(grid_mdp_b)"
   ]
  },
  {
   "cell_type": "code",
   "execution_count": 62,
   "metadata": {
    "collapsed": false
   },
   "outputs": [],
   "source": [
    "policy_value_b.value_iteration()"
   ]
  },
  {
   "cell_type": "code",
   "execution_count": 63,
   "metadata": {
    "collapsed": false
   },
   "outputs": [
    {
     "name": "stdout",
     "output_type": "stream",
     "text": [
      "1 0.64\n",
      "2 0.8\n",
      "3 1.0\n",
      "4 0.8\n",
      "5 0.64\n"
     ]
    }
   ],
   "source": [
    "for i in range(1, 6):\n",
    "    print i, policy_value_b.v[i]"
   ]
  },
  {
   "cell_type": "code",
   "execution_count": 64,
   "metadata": {
    "collapsed": false
   },
   "outputs": [
    {
     "name": "stdout",
     "output_type": "stream",
     "text": [
      "1 e\n",
      "2 e\n",
      "3 s\n",
      "4 w\n",
      "5 w\n"
     ]
    }
   ],
   "source": [
    "for j in range(1,6):\n",
    "    print j, policy_value_b.pi[j]"
   ]
  },
  {
   "cell_type": "markdown",
   "metadata": {},
   "source": [
    "![](../result.png)"
   ]
  },
  {
   "cell_type": "code",
   "execution_count": null,
   "metadata": {
    "collapsed": true
   },
   "outputs": [],
   "source": []
  }
 ],
 "metadata": {
  "anaconda-cloud": {},
  "kernelspec": {
   "display_name": "Python [default]",
   "language": "python",
   "name": "python2"
  },
  "language_info": {
   "codemirror_mode": {
    "name": "ipython",
    "version": 2
   },
   "file_extension": ".py",
   "mimetype": "text/x-python",
   "name": "python",
   "nbconvert_exporter": "python",
   "pygments_lexer": "ipython2",
   "version": "2.7.12"
  }
 },
 "nbformat": 4,
 "nbformat_minor": 1
}
