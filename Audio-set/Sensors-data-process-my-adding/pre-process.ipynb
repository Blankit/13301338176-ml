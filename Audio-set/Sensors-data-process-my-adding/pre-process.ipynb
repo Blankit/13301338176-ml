{
 "cells": [
  {
   "cell_type": "code",
   "execution_count": 82,
   "metadata": {},
   "outputs": [],
   "source": [
    "%matplotlib inline\n",
    "import matplotlib as mpl;\n",
    "import matplotlib.pyplot as plt;\n",
    "import numpy as np\n",
    "\n",
    "\n",
    "\n",
    "\n"
   ]
  },
  {
   "cell_type": "code",
   "execution_count": 45,
   "metadata": {},
   "outputs": [
    {
     "name": "stdout",
     "output_type": "stream",
     "text": [
      "       88902.71510   3    -0.014    0.041    9.829   4    -0.002   -0.003  \\\n",
      "0      88902.73522   3     0.072   -0.043    9.867   4     0.005    0.008   \n",
      "1      88902.75534   3    -0.031   -0.017    9.738   4     0.002    0.004   \n",
      "2      88902.77545   3     0.060   -0.046    9.820   4    -0.002    0.005   \n",
      "3      88902.79557   3    -0.055   -0.034    9.867   4    -0.000   -0.003   \n",
      "4      88902.81557   3     0.024    0.084    9.877   4    -0.007   -0.002   \n",
      "5      88902.83567   3    -0.024   -0.127    9.817   4    -0.004    0.001   \n",
      "6      88902.85578   3     0.038   -0.029    9.786   4    -0.002    0.000   \n",
      "7      88902.87588   3    -0.026   -0.057    9.863   4     0.003   -0.000   \n",
      "8      88902.89598   3     0.002   -0.010    9.755   4     0.003    0.002   \n",
      "9      88902.91617   3    -0.022   -0.089    9.812   4     0.001    0.002   \n",
      "10     88902.93628   3    -0.060   -0.024    9.772   4    -0.005   -0.008   \n",
      "11     88902.95639   3     0.007   -0.014    9.848   4    -0.007   -0.008   \n",
      "12     88902.97650   3    -0.017    0.034    9.949   4    -0.001    0.001   \n",
      "13     88902.99663   3    -0.019    0.048    9.815   4    -0.005    0.002   \n",
      "14     88903.01674   3     0.048   -0.057    9.884   4     0.008   -0.001   \n",
      "15     88903.03685   3     0.031   -0.019    9.856   4    -0.005    0.004   \n",
      "16     88903.05696   3     0.091   -0.005    9.834   4     0.002   -0.001   \n",
      "17     88903.07708   3     0.007   -0.072    9.911   4     0.003   -0.003   \n",
      "18     88903.09720   3    -0.053   -0.093    9.767   4     0.004    0.000   \n",
      "19     88903.11731   3     0.072   -0.005    9.779   4     0.003    0.003   \n",
      "20     88903.13742   3     0.048    0.005    9.796   4     0.004    0.001   \n",
      "21     88903.15754   3     0.038   -0.019    9.891   4    -0.000   -0.006   \n",
      "22     88903.17765   3    -0.034   -0.048    9.815   4     0.003   -0.002   \n",
      "23     88903.19778   3    -0.022   -0.093    9.848   4    -0.007    0.002   \n",
      "24     88903.21789   3    -0.014   -0.022    9.824   4    -0.012    0.001   \n",
      "25     88903.23801   3    -0.005    0.019    9.846   4     0.003   -0.011   \n",
      "26     88903.25812   3    -0.077   -0.017    9.867   4    -0.006   -0.007   \n",
      "27     88903.27823   3    -0.029    0.014    9.846   4     0.003   -0.010   \n",
      "28     88903.29834   3    -0.026    0.010    9.872   4    -0.005   -0.002   \n",
      "29     88903.31845   3     0.048   -0.069    9.942   4     0.000   -0.008   \n",
      "...            ...  ..       ...      ...      ...  ..       ...      ...   \n",
      "18916  89283.16286   3    -0.098   -0.019    9.939   4    -0.001    0.000   \n",
      "18917  89283.18298   3    -0.048   -0.046    9.863   4     0.001   -0.002   \n",
      "18918  89283.20309   3    -0.026   -0.012    9.918   4     0.006    0.001   \n",
      "18919  89283.22321   3    -0.115   -0.036    9.882   4     0.006    0.001   \n",
      "18920  89283.24332   3    -0.005   -0.010    9.867   4    -0.004    0.006   \n",
      "18921  89283.26343   3     0.002    0.010    9.875   4    -0.009   -0.002   \n",
      "18922  89283.28354   3    -0.043   -0.036    9.769   4     0.001   -0.004   \n",
      "18923  89283.30365   3     0.012    0.029    9.877   4    -0.003   -0.001   \n",
      "18924  89283.32376   3     0.062   -0.335    9.863   4    -0.002    0.003   \n",
      "18925  89283.34388   3    -0.069   -0.175    9.903   4    -0.008    0.006   \n",
      "18926  89283.36399   3    -0.352    0.280    9.786   4    -0.005   -0.002   \n",
      "18927  89283.38410   3    -0.029   -0.113    9.947   4     0.004    0.009   \n",
      "18928  89283.40421   3    -0.098   -0.014    9.894   4    -0.006   -0.004   \n",
      "18929  89283.42432   3     0.002   -0.036    9.903   4     0.001    0.005   \n",
      "18930  89283.44443   3    -0.034   -0.022    9.779   4     0.001   -0.004   \n",
      "18931  89283.46454   3    -0.031   -0.091    9.829   4    -0.002   -0.003   \n",
      "18932  89283.48465   3    -0.057   -0.048    9.803   4    -0.001    0.003   \n",
      "18933  89283.50477   3    -0.096   -0.062    9.810   4    -0.001   -0.005   \n",
      "18934  89283.52488   3    -0.065    0.050    9.872   4    -0.007   -0.000   \n",
      "18935  89283.54499   3    -0.002   -0.014    9.846   4    -0.005    0.005   \n",
      "18936  89283.56510   3    -0.029   -0.012    9.863   4    -0.010   -0.002   \n",
      "18937  89283.58521   3    -0.101    0.005    9.865   4     0.001    0.008   \n",
      "18938  89283.60532   3    -0.034   -0.029    9.822   4    -0.000    0.002   \n",
      "18939  89283.62544   3    -0.010   -0.060    9.753   4     0.004    0.006   \n",
      "18940  89283.64555   3    -0.017    0.034    9.872   4    -0.006   -0.004   \n",
      "18941  89283.66566   3    -0.026   -0.014    9.767   4     0.000    0.001   \n",
      "18942  89283.68577   3    -0.098   -0.038    9.920   4    -0.003   -0.000   \n",
      "18943  89283.70587   3    -0.010   -0.074    9.875   4     0.003   -0.002   \n",
      "18944  89283.72598   3    -0.012   -0.098    9.918   4    -0.002   -0.008   \n",
      "18945  89283.74610   3    -0.026    0.062    9.791   4    -0.004    0.001   \n",
      "\n",
      "        -0.003.1   5    19.050  -55.200  -139.500  UNKNOW  \n",
      "0          0.001   5     19.20   -54.60   -137.70  UNKNOW  \n",
      "1          0.005   5     18.15   -53.85   -138.90  UNKNOW  \n",
      "2          0.004   5     18.45   -53.85   -140.10  UNKNOW  \n",
      "3         -0.001   5     16.35   -54.90   -139.80  UNKNOW  \n",
      "4         -0.001   5     16.95   -52.95   -140.40  UNKNOW  \n",
      "5         -0.001   5     16.50   -54.45   -140.40  UNKNOW  \n",
      "6         -0.003   5     17.85   -53.10   -138.90  UNKNOW  \n",
      "7         -0.001   5     17.85   -54.60   -140.55  UNKNOW  \n",
      "8          0.000   5     17.55   -53.70   -139.95  UNKNOW  \n",
      "9         -0.003   5     18.75   -54.45   -139.50  UNKNOW  \n",
      "10        -0.005   5     18.15   -53.85   -140.55  UNKNOW  \n",
      "11        -0.002   5     19.20   -53.10   -139.80  UNKNOW  \n",
      "12         0.003   5     18.45   -55.65   -139.35  UNKNOW  \n",
      "13        -0.001   5     17.40   -54.60   -139.35  UNKNOW  \n",
      "14         0.003   5     18.15   -54.60   -138.00  UNKNOW  \n",
      "15        -0.004   5     19.20   -56.10   -138.45  UNKNOW  \n",
      "16         0.000   5     19.80   -54.75   -139.50  UNKNOW  \n",
      "17         0.000   5     18.15   -53.55   -140.55  UNKNOW  \n",
      "18        -0.001   5     17.55   -55.50   -139.95  UNKNOW  \n",
      "19        -0.000   5     18.00   -54.45   -138.30  UNKNOW  \n",
      "20        -0.000   5     19.05   -55.20   -138.75  UNKNOW  \n",
      "21        -0.003   5     17.85   -54.60   -138.45  UNKNOW  \n",
      "22         0.003   5     18.30   -53.70   -139.50  UNKNOW  \n",
      "23        -0.002   5     18.90   -53.85   -140.10  UNKNOW  \n",
      "24         0.013   5     18.15   -55.65   -138.90  UNKNOW  \n",
      "25         0.009   5     17.85   -54.60   -138.90  UNKNOW  \n",
      "26         0.001   5     18.00   -54.00   -139.05  UNKNOW  \n",
      "27        -0.002   5     18.75   -54.45   -139.05  UNKNOW  \n",
      "28        -0.001   5     19.35   -55.50   -139.50  UNKNOW  \n",
      "29         0.001   5     18.75   -54.00   -139.95  UNKNOW  \n",
      "...          ...  ..       ...      ...       ...     ...  \n",
      "18916     -0.005   5     19.95   -60.75   -139.80  UNKNOW  \n",
      "18917      0.008   5     20.55   -60.30   -140.40  UNKNOW  \n",
      "18918      0.003   5     19.65   -60.00   -140.55  UNKNOW  \n",
      "18919     -0.002   5     21.00   -60.00   -139.80  UNKNOW  \n",
      "18920     -0.000   5     20.70   -60.45   -137.70  UNKNOW  \n",
      "18921      0.000   5     20.85   -61.65   -139.05  UNKNOW  \n",
      "18922     -0.003   5     22.05   -61.20   -139.35  UNKNOW  \n",
      "18923     -0.011   5     20.25   -59.70   -140.10  UNKNOW  \n",
      "18924     -0.026   5     18.90   -61.20   -140.10  UNKNOW  \n",
      "18925     -0.025   5     19.80   -60.90   -139.50  UNKNOW  \n",
      "18926      0.002   5     19.35   -59.85   -139.50  UNKNOW  \n",
      "18927      0.012   5     21.45   -60.00   -141.00  UNKNOW  \n",
      "18928     -0.007   5     19.65   -62.55   -141.00  UNKNOW  \n",
      "18929     -0.012   5     19.95   -60.75   -139.80  UNKNOW  \n",
      "18930      0.002   5     19.65   -60.00   -140.55  UNKNOW  \n",
      "18931     -0.004   5     19.05   -60.60   -139.95  UNKNOW  \n",
      "18932      0.001   5     18.75   -60.60   -139.95  UNKNOW  \n",
      "18933     -0.004   5     19.05   -58.35   -140.85  UNKNOW  \n",
      "18934      0.005   5     18.75   -59.55   -141.15  UNKNOW  \n",
      "18935     -0.006   5     19.05   -60.30   -140.85  UNKNOW  \n",
      "18936     -0.001   5     18.45   -60.00   -139.80  UNKNOW  \n",
      "18937     -0.003   5     17.40   -60.75   -140.55  UNKNOW  \n",
      "18938     -0.002   5     18.45   -59.25   -141.90  UNKNOW  \n",
      "18939      0.008   5     18.30   -59.55   -141.60  UNKNOW  \n",
      "18940      0.001   5     18.45   -60.45   -139.35  UNKNOW  \n",
      "18941      0.004   5     18.45   -61.50   -140.10  UNKNOW  \n",
      "18942      0.001   5     18.75   -59.55   -140.40  UNKNOW  \n",
      "18943     -0.001   5     17.10   -60.45   -141.45  UNKNOW  \n",
      "18944     -0.000   5     19.20   -61.80   -140.55  UNKNOW  \n",
      "18945     -0.003   5     19.05   -59.85   -140.40  UNKNOW  \n",
      "\n",
      "[18946 rows x 14 columns]\n"
     ]
    }
   ],
   "source": [
    "    import pandas as pd\n",
    "    df1=pd.read_csv(\"syncmystream_12_26_0_14_55.csv\")\n",
    "    df2=pd.read_csv(\"syncmystream_12_26_0_14_55.csv\")\n",
    "    print(df1)"
   ]
  },
  {
   "cell_type": "code",
   "execution_count": 95,
   "metadata": {},
   "outputs": [
    {
     "data": {
      "text/plain": [
       "88902.755340000003"
      ]
     },
     "execution_count": 95,
     "metadata": {},
     "output_type": "execute_result"
    }
   ],
   "source": [
    "\n",
    "first=df1[df1.columns[0]][1:1001].values\n",
    "second=df2[df2.columns[0]][0:1000].values\n",
    "\n",
    "acc_x=df1[df1.columns[2]][0:1000].values\n",
    "\n",
    "first[0]\n"
   ]
  },
  {
   "cell_type": "code",
   "execution_count": 96,
   "metadata": {},
   "outputs": [
    {
     "data": {
      "text/plain": [
       "0.072000000000000008"
      ]
     },
     "execution_count": 96,
     "metadata": {},
     "output_type": "execute_result"
    }
   ],
   "source": [
    "acc_x[0]"
   ]
  },
  {
   "cell_type": "code",
   "execution_count": 71,
   "metadata": {},
   "outputs": [
    {
     "data": {
      "text/plain": [
       "88902.735220000002"
      ]
     },
     "execution_count": 71,
     "metadata": {},
     "output_type": "execute_result"
    }
   ],
   "source": [
    "second[0]\n",
    "\n"
   ]
  },
  {
   "cell_type": "code",
   "execution_count": null,
   "metadata": {},
   "outputs": [],
   "source": []
  },
  {
   "cell_type": "heading",
   "metadata": {},
   "level": 1,
   "source": [
    "\n",
    "from sklearn.preprocessing import MinMaxScaler\n",
    "from sklearn.preprocessing import minmax_scale\n",
    "from sklearn.preprocessing import MaxAbsScaler\n",
    "from sklearn.preprocessing import StandardScaler\n",
    "from sklearn.preprocessing import RobustScaler\n",
    "from sklearn.preprocessing import Normalizer\n",
    "\n"
   ]
  },
  {
   "cell_type": "code",
   "execution_count": 118,
   "metadata": {},
   "outputs": [
    {
     "ename": "TypeError",
     "evalue": "imshow() takes at least 1 argument (0 given)",
     "traceback": [
      "\u001b[0;31m---------------------------------------------------------------------------\u001b[0m",
      "\u001b[0;31mTypeError\u001b[0m                                 Traceback (most recent call last)",
      "\u001b[0;32m<ipython-input-118-681ebf8264ca>\u001b[0m in \u001b[0;36m<module>\u001b[0;34m()\u001b[0m\n\u001b[1;32m      5\u001b[0m \u001b[0mplt\u001b[0m\u001b[0;34m.\u001b[0m\u001b[0mplot\u001b[0m\u001b[0;34m(\u001b[0m\u001b[0mx\u001b[0m\u001b[0;34m,\u001b[0m\u001b[0mts\u001b[0m\u001b[0;34m,\u001b[0m\u001b[0;34m'g'\u001b[0m\u001b[0;34m)\u001b[0m\u001b[0;34m\u001b[0m\u001b[0m\n\u001b[1;32m      6\u001b[0m \u001b[0mplt\u001b[0m\u001b[0;34m.\u001b[0m\u001b[0mplot\u001b[0m\u001b[0;34m(\u001b[0m\u001b[0mx\u001b[0m\u001b[0;34m,\u001b[0m\u001b[0macc1\u001b[0m\u001b[0;34m,\u001b[0m\u001b[0;34m'r'\u001b[0m\u001b[0;34m)\u001b[0m\u001b[0;34m\u001b[0m\u001b[0m\n\u001b[0;32m----> 7\u001b[0;31m \u001b[0mplt\u001b[0m\u001b[0;34m.\u001b[0m\u001b[0mimshow\u001b[0m\u001b[0;34m(\u001b[0m\u001b[0;34m)\u001b[0m\u001b[0;34m\u001b[0m\u001b[0m\n\u001b[0m\u001b[1;32m      8\u001b[0m \u001b[0;34m\u001b[0m\u001b[0m\n",
      "\u001b[0;31mTypeError\u001b[0m: imshow() takes at least 1 argument (0 given)"
     ],
     "output_type": "error"
    },
    {
     "data": {
      "image/png": "[encoded data removed]",
      "text/plain": [
       "<matplotlib.figure.Figure at 0x7fe27c5bced0>"
      ]
     },
     "metadata": {},
     "output_type": "display_data"
    }
   ],
   "source": [
    "ts= minmax_scale(first-second)\n",
    "acc1=minmax_scale(acc_x)\n",
    "\n",
    "x=range(0,1000)\n",
    "plt.plot(x,ts,'g')\n",
    "plt.plot(x,acc1,'r')\n",
    "plt.imshow()\n",
    "                  "
   ]
  }
 ],
 "metadata": {
  "kernelspec": {
   "display_name": "Python 2",
   "language": "python",
   "name": "python2"
  },
  "language_info": {
   "codemirror_mode": {
    "name": "ipython",
    "version": 2
   },
   "file_extension": ".py",
   "mimetype": "text/x-python",
   "name": "python",
   "nbconvert_exporter": "python",
   "pygments_lexer": "ipython2",
   "version": "2.7.6"
  }
 },
 "nbformat": 4,
 "nbformat_minor": 2
}
